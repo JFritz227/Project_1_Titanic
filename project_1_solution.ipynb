{
 "cells": [
  {
   "cell_type": "markdown",
   "metadata": {},
   "source": [
    "![](https://upload.wikimedia.org/wikipedia/en/b/bb/Titanic_breaks_in_half.jpg)"
   ]
  },
  {
   "cell_type": "markdown",
   "metadata": {},
   "source": [
    "# Project 1: [Titanic](https://www.kaggle.com/c/titanic/data)\n",
    "---\n",
    "\n",
    "The sinking of the RMS Titanic is one of the most infamous shipwrecks in history.  On April 15, 1912, during her maiden voyage, the Titanic sank after colliding with an iceberg, killing 1502 out of 2224 passengers and crew. This sensational tragedy shocked the international community and led to better safety regulations for ships.\n",
    "\n",
    "One of the reasons that the shipwreck led to such loss of life was that there were not enough lifeboats for the passengers and crew. Although there was some element of luck involved in surviving the sinking, some groups of people were more likely to survive than others, such as women, children, and the upper-class.\n",
    "\n",
    "In this project, you will exercise your skills with loading data, python data structures, and Pandas to identify charactaristics of Titanic survivors!\n",
    "\n",
    "---\n",
    "#### Your goals should be to:\n",
    "* Practice python programming including loops, conditionals, types, functions, and data structures\n",
    "* Start thinking critically about manipulating, organizing, and interpreting data\n",
    "* Troubleshoot errors\n",
    "\n",
    "---\n",
    "#### Getting Started:\n",
    "* **fork** the repository on git.generalassemb.ly\n",
    "* **clone** your forked repo\n",
    "\n",
    "---\n",
    "#### Submission:\n",
    "* You should be working on a **fork** of the GA project one repository. \n",
    "* Use **git** to manage versions of your project. Make sure to `add`, `commit`, and `push` your changes to **your fork** of the github \n",
    "* Submit a link to your project repository in the submission form by **Friday, 9/29 11:59 PM**. You will then receive the solutions.\n",
    "* Create a copy of your original notebook (file > make a copy in jupyter notebook)\n",
    "* In the copy, use the solutions to correct your work. Make sure to take note of your successes and struggles. Did you learn anything new from correcting your work?\n",
    "* Submit the corrected version by **Sunday, 10/1 11:59 PM** to receive instructor feedback on your work. ***Projects submitted after this deadline will not receive instructor feedback.***"
   ]
  },
  {
   "cell_type": "markdown",
   "metadata": {},
   "source": [
    "### Considerations:\n",
    "\n",
    "* You will be generating long data strutures- avoid displaying the whole thing. Display just the first or last few entries and look at the length or shape to check whether your code gives you back what you want and expect.\n",
    "* Make functions whenever possiblle!\n",
    "* Be explicit with your naming. You may forget what `this_list` is, but you will have an idea of what `passenger_fare_list` is. Variable naming will help you in the long run!\n",
    "* Don't forget about tab autocomplete!\n",
    "* Use markdown cells to document your planning, thoughts, and results. \n",
    "* Delete cells you will not include in your final submission\n",
    "* Try to solve your own problems using this framework:\n",
    "  1. Check your spelling\n",
    "  2. Google your errors. Is it on stackoverflow?\n",
    "  3. Ask your classmates\n",
    "  4. Ask a TA or instructor\n",
    "* Do not include errors or stack traces (fix them!)"
   ]
  },
  {
   "cell_type": "markdown",
   "metadata": {},
   "source": [
    "# 1. Using the `with open()` method in the `csv` library, load the titanic dataset into a list of lists.\n",
    "\n",
    "* The `type()` of your dataset should be `list`\n",
    "* The `type()` of each element in your dataset should also be `list`\n",
    "* The `len()` of your dataset should be 892 (892 rows, including the header)\n",
    "* The `len()` of each row element in your dataset should be have a `len()` of 12\n",
    "* Print out the first 3 rows including the header to check your data."
   ]
  },
  {
   "cell_type": "code",
   "execution_count": 1,
   "metadata": {
    "collapsed": true
   },
   "outputs": [],
   "source": [
    "import csv\n",
    "from IPython.display import display\n",
    "import numpy as np"
   ]
  },
  {
   "cell_type": "code",
   "execution_count": 2,
   "metadata": {
    "collapsed": true
   },
   "outputs": [],
   "source": [
    "dataset = []\n",
    "\n",
    "with open('titanic.csv') as csvfile:\n",
    "    my_reader = csv.reader(csvfile, delimiter=',')\n",
    "    for row in my_reader:\n",
    "        dataset.append(row)"
   ]
  },
  {
   "cell_type": "code",
   "execution_count": 3,
   "metadata": {},
   "outputs": [
    {
     "data": {
      "text/plain": [
       "list"
      ]
     },
     "execution_count": 3,
     "metadata": {},
     "output_type": "execute_result"
    }
   ],
   "source": [
    "type(dataset[0])"
   ]
  },
  {
   "cell_type": "code",
   "execution_count": 4,
   "metadata": {},
   "outputs": [
    {
     "data": {
      "text/plain": [
       "list"
      ]
     },
     "execution_count": 4,
     "metadata": {},
     "output_type": "execute_result"
    }
   ],
   "source": [
    "type(dataset[0])"
   ]
  },
  {
   "cell_type": "code",
   "execution_count": 5,
   "metadata": {},
   "outputs": [
    {
     "data": {
      "text/plain": [
       "892"
      ]
     },
     "execution_count": 5,
     "metadata": {},
     "output_type": "execute_result"
    }
   ],
   "source": [
    "len(dataset)"
   ]
  },
  {
   "cell_type": "code",
   "execution_count": 6,
   "metadata": {},
   "outputs": [
    {
     "data": {
      "text/plain": [
       "12"
      ]
     },
     "execution_count": 6,
     "metadata": {},
     "output_type": "execute_result"
    }
   ],
   "source": [
    "len(dataset[0])"
   ]
  },
  {
   "cell_type": "code",
   "execution_count": 7,
   "metadata": {},
   "outputs": [
    {
     "data": {
      "text/plain": [
       "[['PassengerId',\n",
       "  'Survived',\n",
       "  'Pclass',\n",
       "  'Name',\n",
       "  'Sex',\n",
       "  'Age',\n",
       "  'SibSp',\n",
       "  'Parch',\n",
       "  'Ticket',\n",
       "  'Fare',\n",
       "  'Cabin',\n",
       "  'Embarked'],\n",
       " ['1',\n",
       "  '0',\n",
       "  '3',\n",
       "  'Braund, Mr. Owen Harris',\n",
       "  'male',\n",
       "  '22',\n",
       "  '1',\n",
       "  '0',\n",
       "  'A/5 21171',\n",
       "  '7.25',\n",
       "  '',\n",
       "  'S'],\n",
       " ['2',\n",
       "  '1',\n",
       "  '1',\n",
       "  'Cumings, Mrs. John Bradley (Florence Briggs Thayer)',\n",
       "  'female',\n",
       "  '38',\n",
       "  '1',\n",
       "  '0',\n",
       "  'PC 17599',\n",
       "  '71.2833',\n",
       "  'C85',\n",
       "  'C']]"
      ]
     },
     "execution_count": 7,
     "metadata": {},
     "output_type": "execute_result"
    }
   ],
   "source": [
    "dataset[:3]"
   ]
  },
  {
   "cell_type": "markdown",
   "metadata": {},
   "source": [
    "# 2. Separate the first header row from the rest of your dataset. \n",
    "\n",
    "* The header should be a list of the column names\n",
    "* The data should be the rest of your data\n",
    "* Display the header and the first row of the dataset zipped together using `zip`\n",
    "* Your result should look like...\n",
    "\n",
    "\n",
    "```\n",
    "[('PassengerId', '1'),\n",
    " ('Survived', '0'),\n",
    " ('Pclass', '3'),\n",
    " ...\n",
    " ('Embarked', 'S')]\n",
    " ```"
   ]
  },
  {
   "cell_type": "code",
   "execution_count": 8,
   "metadata": {
    "collapsed": true
   },
   "outputs": [],
   "source": [
    "header = dataset[0]\n",
    "data = dataset[1:]"
   ]
  },
  {
   "cell_type": "code",
   "execution_count": 9,
   "metadata": {},
   "outputs": [
    {
     "data": {
      "text/plain": [
       "[('PassengerId', '1'),\n",
       " ('Survived', '0'),\n",
       " ('Pclass', '3'),\n",
       " ('Name', 'Braund, Mr. Owen Harris'),\n",
       " ('Sex', 'male'),\n",
       " ('Age', '22'),\n",
       " ('SibSp', '1'),\n",
       " ('Parch', '0'),\n",
       " ('Ticket', 'A/5 21171'),\n",
       " ('Fare', '7.25'),\n",
       " ('Cabin', ''),\n",
       " ('Embarked', 'S')]"
      ]
     },
     "execution_count": 9,
     "metadata": {},
     "output_type": "execute_result"
    }
   ],
   "source": [
    "list(zip(header, data[0]))"
   ]
  },
  {
   "cell_type": "markdown",
   "metadata": {},
   "source": [
    "# 3. Using a `for` loop, load your data into a `dict` called `data_dict`.\n",
    "\n",
    "* The keys of your `data_dict` should be `PassengerId`\n",
    "* The values of your `data_dict` should be dictionaries...\n",
    "  * Each of these dictionaries should reperesent a column value within a row\n",
    "  * The keys should be the names of the columns\n",
    "  * The values should be the values of that column\n",
    "  \n",
    "The beginning of your `data_dict` should look like: \n",
    "\n",
    "    {'1': {'Age': '22',\n",
    "      'Cabin': '',\n",
    "      'Embarked': 'S',\n",
    "      'Fare': '7.25',\n",
    "      'Name': 'Braund, Mr. Owen Harris',\n",
    "      'Parch': '0',\n",
    "      'Pclass': '3',\n",
    "      'Sex': 'male',\n",
    "      'SibSp': '1',\n",
    "      'Survived': '0',\n",
    "      'Ticket': 'A/5 21171'},\n",
    "     '10': {'Age': '14',\n",
    "      'Cabin': '',\n",
    "      'Embarked': 'C',\n",
    "      'Fare': '30.0708',\n",
    "      'Name': 'Nasser, Mrs. Nicholas (Adele Achem)',\n",
    "      'Parch': '0',\n",
    "      'Pclass': '2',\n",
    "      'Sex': 'female',\n",
    "      'SibSp': '1',\n",
    "      'Survived': '1',\n",
    "      'Ticket': '237736'},\n",
    "      ...\n",
    "      }"
   ]
  },
  {
   "cell_type": "code",
   "execution_count": 10,
   "metadata": {
    "collapsed": true
   },
   "outputs": [],
   "source": [
    "data_dict = {}\n",
    "\n",
    "for row in data:\n",
    "    zipped = list(zip(header, row))\n",
    "    row_dict = {}\n",
    "    for col, element in zipped[1:]:\n",
    "        row_dict[col] = element\n",
    "    data_dict[row[0]] = row_dict"
   ]
  },
  {
   "cell_type": "code",
   "execution_count": 11,
   "metadata": {},
   "outputs": [
    {
     "data": {
      "text/plain": [
       "{'Age': '22',\n",
       " 'Cabin': '',\n",
       " 'Embarked': 'S',\n",
       " 'Fare': '7.25',\n",
       " 'Name': 'Braund, Mr. Owen Harris',\n",
       " 'Parch': '0',\n",
       " 'Pclass': '3',\n",
       " 'Sex': 'male',\n",
       " 'SibSp': '1',\n",
       " 'Survived': '0',\n",
       " 'Ticket': 'A/5 21171'}"
      ]
     },
     "execution_count": 11,
     "metadata": {},
     "output_type": "execute_result"
    }
   ],
   "source": [
    "data_dict[list(data_dict.keys())[0]]"
   ]
  },
  {
   "cell_type": "code",
   "execution_count": 12,
   "metadata": {},
   "outputs": [
    {
     "data": {
      "text/plain": [
       "{'Age': '32',\n",
       " 'Cabin': '',\n",
       " 'Embarked': 'Q',\n",
       " 'Fare': '7.75',\n",
       " 'Name': 'Dooley, Mr. Patrick',\n",
       " 'Parch': '0',\n",
       " 'Pclass': '3',\n",
       " 'Sex': 'male',\n",
       " 'SibSp': '0',\n",
       " 'Survived': '0',\n",
       " 'Ticket': '370376'}"
      ]
     },
     "execution_count": 12,
     "metadata": {},
     "output_type": "execute_result"
    }
   ],
   "source": [
    "data_dict[list(data_dict.keys())[-1]]"
   ]
  },
  {
   "cell_type": "markdown",
   "metadata": {},
   "source": [
    "# 4. Repeat step 3 using a dictionary comprehension.\n",
    "\n",
    "* Using `==`, check if your `data_dict` from your `for` loop is the same as the one from your dictionary comprehension."
   ]
  },
  {
   "cell_type": "code",
   "execution_count": 13,
   "metadata": {
    "collapsed": true
   },
   "outputs": [],
   "source": [
    "data_dict_comp = {row[0]:{i:j for i,j in zip(header[1:], row[1:])} for row in data}"
   ]
  },
  {
   "cell_type": "code",
   "execution_count": 14,
   "metadata": {},
   "outputs": [
    {
     "data": {
      "text/plain": [
       "True"
      ]
     },
     "execution_count": 14,
     "metadata": {},
     "output_type": "execute_result"
    }
   ],
   "source": [
    "data_dict == data_dict_comp"
   ]
  },
  {
   "cell_type": "markdown",
   "metadata": {},
   "source": [
    "# 5. Transform your `data_dict` to be oriented by column and call it `data_dict_columns`\n",
    "\n",
    "* Currently, our `data_dict` is oriented by row, indexed by `\"PassengerId\"`. \n",
    "* Transform your data so that the title of each row is a key, the values are of type `list` and represent column vectors.\n",
    "\n",
    "If you display `data_dict_columns`, the beginning should look like...\n",
    "\n",
    "    {'Age': ['25',\n",
    "      '36',\n",
    "      '24',\n",
    "      '40',\n",
    "      '45',\n",
    "      '2',\n",
    "      '24',\n",
    "      '28',\n",
    "      '33',\n",
    "      '26',\n",
    "      '39',\n",
    "      ..."
   ]
  },
  {
   "cell_type": "code",
   "execution_count": 15,
   "metadata": {
    "collapsed": true
   },
   "outputs": [],
   "source": [
    "data_dict_columns = {}\n",
    "for col in header:\n",
    "    data_dict_columns[col] = []\n",
    "\n",
    "for pass_id, row in data_dict.items():\n",
    "    data_dict_columns['PassengerId'].append(pass_id)\n",
    "    for col, value in row.items():\n",
    "        data_dict_columns[col].append(value)"
   ]
  },
  {
   "cell_type": "markdown",
   "metadata": {},
   "source": [
    "# 6. Data Types\n",
    "\n",
    "What is the current `type` of each column? What do you think the data type of each column *should* be? The data types in Python are...\n",
    "\n",
    "* `int`\n",
    "* `float`\n",
    "* `str`\n",
    "* `bool`\n",
    "* `tuple`\n",
    "* `list`\n",
    "* `dict`\n",
    "* `set`\n",
    "\n",
    "In a markdown cell, describe what each column represents and what the `type` of each value should be. **Extra:** If you want to be fancy, use a [markdown table](https://github.com/adam-p/markdown-here/wiki/Markdown-Cheatsheet#tables) to display your results."
   ]
  },
  {
   "cell_type": "markdown",
   "metadata": {},
   "source": [
    "\n",
    "|Column|Type|\n",
    "|---|---|\n",
    "|Fare|`float`|\n",
    "|Name|`str`|\n",
    "|Embarked|`str`|\n",
    "|Age|`float`|\n",
    "|Parch|`int`|\n",
    "|Pclass|`int`|\n",
    "|Sex|`str`|\n",
    "|Survived|`int`|\n",
    "|SibSp|`int`|\n",
    "|PassengerId|`int`|\n",
    "|Ticket|`str`|\n",
    "|Cabin|`str`|"
   ]
  },
  {
   "cell_type": "markdown",
   "metadata": {},
   "source": [
    "# 7. Transform each column to the appropriate type if needed.\n",
    "\n",
    "Build a function called `transform_column` that takes arguments for a `data_dict`, `column_name`, and `datatype`, and use it to transofm the columns that need transformation.\n",
    "\n",
    "**NOTE:** There are values in this dataset that cannot be directly cast to a numerical value. Use `if/then` or `try/except` statements to handle errors. \n",
    "\n",
    "**To help identify potential sources of errors, explore the `set` of values in each column.**"
   ]
  },
  {
   "cell_type": "code",
   "execution_count": 16,
   "metadata": {},
   "outputs": [
    {
     "data": {
      "text/plain": [
       "dict_keys(['PassengerId', 'Survived', 'Pclass', 'Name', 'Sex', 'Age', 'SibSp', 'Parch', 'Ticket', 'Fare', 'Cabin', 'Embarked'])"
      ]
     },
     "execution_count": 16,
     "metadata": {},
     "output_type": "execute_result"
    }
   ],
   "source": [
    "data_dict_columns.keys()"
   ]
  },
  {
   "cell_type": "code",
   "execution_count": 17,
   "metadata": {
    "collapsed": true
   },
   "outputs": [],
   "source": [
    "non_str_cols = ['Fare','Age','Parch','Pclass','Survived','SibSp','PassengerId']\n",
    "type_list = [float, float, int, int, int, int, int]"
   ]
  },
  {
   "cell_type": "code",
   "execution_count": 18,
   "metadata": {},
   "outputs": [
    {
     "data": {
      "text/plain": [
       "{'0',\n",
       " '10.1708',\n",
       " '10.4625',\n",
       " '10.5',\n",
       " '10.5167',\n",
       " '106.425',\n",
       " '108.9',\n",
       " '11.1333',\n",
       " '11.2417',\n",
       " '11.5',\n",
       " '110.8833',\n",
       " '113.275',\n",
       " '12',\n",
       " '12.275',\n",
       " '12.2875',\n",
       " '12.35',\n",
       " '12.475',\n",
       " '12.525',\n",
       " '12.65',\n",
       " '12.875',\n",
       " '120',\n",
       " '13',\n",
       " '13.4167',\n",
       " '13.5',\n",
       " '13.7917',\n",
       " '13.8583',\n",
       " '13.8625',\n",
       " '133.65',\n",
       " '134.5',\n",
       " '135.6333',\n",
       " '14',\n",
       " '14.1083',\n",
       " '14.4',\n",
       " '14.4542',\n",
       " '14.4583',\n",
       " '14.5',\n",
       " '146.5208',\n",
       " '15',\n",
       " '15.0458',\n",
       " '15.05',\n",
       " '15.1',\n",
       " '15.2458',\n",
       " '15.5',\n",
       " '15.55',\n",
       " '15.7417',\n",
       " '15.75',\n",
       " '15.85',\n",
       " '15.9',\n",
       " '151.55',\n",
       " '153.4625',\n",
       " '16',\n",
       " '16.1',\n",
       " '16.7',\n",
       " '164.8667',\n",
       " '17.4',\n",
       " '17.8',\n",
       " '18',\n",
       " '18.75',\n",
       " '18.7875',\n",
       " '19.2583',\n",
       " '19.5',\n",
       " '19.9667',\n",
       " '20.2125',\n",
       " '20.25',\n",
       " '20.525',\n",
       " '20.575',\n",
       " '21',\n",
       " '21.075',\n",
       " '21.6792',\n",
       " '211.3375',\n",
       " '211.5',\n",
       " '22.025',\n",
       " '22.3583',\n",
       " '22.525',\n",
       " '221.7792',\n",
       " '227.525',\n",
       " '23',\n",
       " '23.25',\n",
       " '23.45',\n",
       " '24',\n",
       " '24.15',\n",
       " '247.5208',\n",
       " '25.4667',\n",
       " '25.5875',\n",
       " '25.925',\n",
       " '25.9292',\n",
       " '26',\n",
       " '26.25',\n",
       " '26.2833',\n",
       " '26.2875',\n",
       " '26.3875',\n",
       " '26.55',\n",
       " '262.375',\n",
       " '263',\n",
       " '27',\n",
       " '27.7208',\n",
       " '27.75',\n",
       " '27.9',\n",
       " '28.5',\n",
       " '28.7125',\n",
       " '29',\n",
       " '29.125',\n",
       " '29.7',\n",
       " '30',\n",
       " '30.0708',\n",
       " '30.5',\n",
       " '30.6958',\n",
       " '31',\n",
       " '31.275',\n",
       " '31.3875',\n",
       " '32.3208',\n",
       " '32.5',\n",
       " '33',\n",
       " '33.5',\n",
       " '34.0208',\n",
       " '34.375',\n",
       " '34.6542',\n",
       " '35',\n",
       " '35.5',\n",
       " '36.75',\n",
       " '37.0042',\n",
       " '38.5',\n",
       " '39',\n",
       " '39.4',\n",
       " '39.6',\n",
       " '39.6875',\n",
       " '4.0125',\n",
       " '40.125',\n",
       " '41.5792',\n",
       " '42.4',\n",
       " '46.9',\n",
       " '47.1',\n",
       " '49.5',\n",
       " '49.5042',\n",
       " '5',\n",
       " '50',\n",
       " '50.4958',\n",
       " '51.4792',\n",
       " '51.8625',\n",
       " '512.3292',\n",
       " '52',\n",
       " '52.5542',\n",
       " '53.1',\n",
       " '55',\n",
       " '55.4417',\n",
       " '55.9',\n",
       " '56.4958',\n",
       " '56.9292',\n",
       " '57',\n",
       " '57.9792',\n",
       " '59.4',\n",
       " '6.2375',\n",
       " '6.4375',\n",
       " '6.45',\n",
       " '6.4958',\n",
       " '6.75',\n",
       " '6.8583',\n",
       " '6.95',\n",
       " '6.975',\n",
       " '61.175',\n",
       " '61.3792',\n",
       " '61.9792',\n",
       " '63.3583',\n",
       " '65',\n",
       " '66.6',\n",
       " '69.3',\n",
       " '69.55',\n",
       " '7.0458',\n",
       " '7.05',\n",
       " '7.0542',\n",
       " '7.125',\n",
       " '7.1417',\n",
       " '7.225',\n",
       " '7.2292',\n",
       " '7.25',\n",
       " '7.3125',\n",
       " '7.4958',\n",
       " '7.5208',\n",
       " '7.55',\n",
       " '7.6292',\n",
       " '7.65',\n",
       " '7.725',\n",
       " '7.7292',\n",
       " '7.7333',\n",
       " '7.7375',\n",
       " '7.7417',\n",
       " '7.75',\n",
       " '7.775',\n",
       " '7.7875',\n",
       " '7.7958',\n",
       " '7.8',\n",
       " '7.8292',\n",
       " '7.8542',\n",
       " '7.875',\n",
       " '7.8792',\n",
       " '7.8875',\n",
       " '7.8958',\n",
       " '7.925',\n",
       " '71',\n",
       " '71.2833',\n",
       " '73.5',\n",
       " '75.25',\n",
       " '76.2917',\n",
       " '76.7292',\n",
       " '77.2875',\n",
       " '77.9583',\n",
       " '78.2667',\n",
       " '78.85',\n",
       " '79.2',\n",
       " '79.65',\n",
       " '8.0292',\n",
       " '8.05',\n",
       " '8.1125',\n",
       " '8.1375',\n",
       " '8.1583',\n",
       " '8.3',\n",
       " '8.3625',\n",
       " '8.4042',\n",
       " '8.4333',\n",
       " '8.4583',\n",
       " '8.5167',\n",
       " '8.6542',\n",
       " '8.6625',\n",
       " '8.6833',\n",
       " '8.7125',\n",
       " '8.85',\n",
       " '80',\n",
       " '81.8583',\n",
       " '82.1708',\n",
       " '83.1583',\n",
       " '83.475',\n",
       " '86.5',\n",
       " '89.1042',\n",
       " '9',\n",
       " '9.2167',\n",
       " '9.225',\n",
       " '9.35',\n",
       " '9.475',\n",
       " '9.4833',\n",
       " '9.5',\n",
       " '9.5875',\n",
       " '9.825',\n",
       " '9.8375',\n",
       " '9.8417',\n",
       " '9.8458',\n",
       " '90',\n",
       " '91.0792',\n",
       " '93.5'}"
      ]
     },
     "execution_count": 18,
     "metadata": {},
     "output_type": "execute_result"
    }
   ],
   "source": [
    "set(data_dict_columns[non_str_cols[0]])"
   ]
  },
  {
   "cell_type": "code",
   "execution_count": 19,
   "metadata": {
    "collapsed": true
   },
   "outputs": [],
   "source": [
    "def transform_column(data_dict, column, datatype):\n",
    "    new_col = []\n",
    "    for i in data_dict[column]:\n",
    "        try:\n",
    "            new_col.append(datatype(i))\n",
    "        except:\n",
    "            new_col.append(np.NaN)\n",
    "    data_dict[column] = new_col\n",
    "    return data_dict"
   ]
  },
  {
   "cell_type": "code",
   "execution_count": 20,
   "metadata": {
    "collapsed": true
   },
   "outputs": [],
   "source": [
    "for col, datatype in zip(non_str_cols, type_list):\n",
    "    data_dict_columns = transform_column(data_dict_columns, col, datatype)"
   ]
  },
  {
   "cell_type": "markdown",
   "metadata": {},
   "source": [
    "# 8. Build functions to calculate the mean, sample standard deviation, and median of a list of ints or floats. Use `scipy.stats.mode` or build your own mode function!\n",
    "\n",
    "\n",
    "If you filled any missing values with `np.NaN`, you may need to handle that in your functions (look up `np.isnan()`).\n",
    "\n",
    "If building a `mode` function is too difficult, you import mode from `scipy.stats` using `from scipy.stats import mode`.\n",
    "\n",
    "**Optional:**  Build a function for calculating the Mode that returns the mode value *and* the count of that value. Mode is tricky, so start by building a function that counts the occurances of each value. You may also need to sort using a `key` with a `lambda function` inside. You may also find a `defaultdict` useful."
   ]
  },
  {
   "cell_type": "markdown",
   "metadata": {},
   "source": [
    "Mean"
   ]
  },
  {
   "cell_type": "code",
   "execution_count": 21,
   "metadata": {
    "collapsed": true
   },
   "outputs": [],
   "source": [
    "def this_mean(data_list):\n",
    "    data_list = [float(i) for i in data_list if not np.isnan(i)]\n",
    "    return sum(data_list)/len(data_list)"
   ]
  },
  {
   "cell_type": "markdown",
   "metadata": {},
   "source": [
    "Standard Deviation"
   ]
  },
  {
   "cell_type": "code",
   "execution_count": 22,
   "metadata": {
    "collapsed": true
   },
   "outputs": [],
   "source": [
    "def this_std(data_list):\n",
    "    data_list = [float(i) for i in data_list if not np.isnan(i)]\n",
    "    df = len(data_list) - 1\n",
    "    mean = this_mean(data_list)\n",
    "    dev = sum([(i - mean)**2 for i in data_list])\n",
    "    return (dev/df)**.5"
   ]
  },
  {
   "cell_type": "markdown",
   "metadata": {},
   "source": [
    "Median"
   ]
  },
  {
   "cell_type": "code",
   "execution_count": 29,
   "metadata": {
    "collapsed": true
   },
   "outputs": [],
   "source": [
    "def this_median(data_list):\n",
    "    data_list = [float(i) for i in data_list if not np.isnan(i)]\n",
    "    data_list.sort()\n",
    "    l = len(data_list)\n",
    "    if l%2 == 1:\n",
    "        ind = l//2 +1\n",
    "        return data_list[ind]\n",
    "    else:\n",
    "        ind1 = l//2\n",
    "        ind2 = ind1+1\n",
    "        return this_mean([data_list[ind1], data_list[ind2]])"
   ]
  },
  {
   "cell_type": "markdown",
   "metadata": {},
   "source": [
    "Mode"
   ]
  },
  {
   "cell_type": "code",
   "execution_count": 30,
   "metadata": {
    "collapsed": true
   },
   "outputs": [],
   "source": [
    "from collections import defaultdict"
   ]
  },
  {
   "cell_type": "code",
   "execution_count": 31,
   "metadata": {
    "collapsed": true
   },
   "outputs": [],
   "source": [
    "def counter(data_list):\n",
    "    '''\n",
    "    Returns a dict with the values as keys and the counts of each value as the dict values.\n",
    "    '''\n",
    "    count_dict = defaultdict(int)\n",
    "    for i in data_list:\n",
    "        count_dict[i] += 1\n",
    "    return dict(count_dict)"
   ]
  },
  {
   "cell_type": "code",
   "execution_count": 35,
   "metadata": {
    "collapsed": true
   },
   "outputs": [],
   "source": [
    "def this_mode(data_list):\n",
    "    '''\n",
    "    Returns the mode and the no. of occurances of that value.\n",
    "    '''\n",
    "    counts = list(counter(data_list).items())\n",
    "    counts.sort(key = lambda x: x[1], reverse=True)\n",
    "    value, count = counts[0]\n",
    "    return value, count"
   ]
  },
  {
   "cell_type": "markdown",
   "metadata": {},
   "source": [
    "# 9. Summary Statistics of Numerical Columns\n",
    "\n",
    "For numerical columns, what is the mean, standard deviation, mean, and mode for that data? Which measure of central tendency is the most descriptive of each column? Why? Explain your answer in a markdown cell."
   ]
  },
  {
   "cell_type": "code",
   "execution_count": 36,
   "metadata": {
    "collapsed": true
   },
   "outputs": [],
   "source": [
    "def get_sum_stats(data_col):\n",
    "    for name, method in [('mean',this_mean), \n",
    "                         ('standard deviation',this_std), \n",
    "                         ('median', this_median),\n",
    "                         ('mode', this_mode)\n",
    "                        ]:\n",
    "        print(\"{:20} : {}\".format(name, method(data_col)))"
   ]
  },
  {
   "cell_type": "code",
   "execution_count": 39,
   "metadata": {},
   "outputs": [
    {
     "name": "stdout",
     "output_type": "stream",
     "text": [
      "Column: Fare\n",
      "mean                 : 32.2042079685746\n",
      "standard deviation   : 49.693428597180905\n",
      "median               : 14.4542\n",
      "mode                 : (8.05, 43)\n",
      "\n",
      "\n",
      "Column: Age\n",
      "mean                 : 29.69911764705882\n",
      "standard deviation   : 14.526497332334044\n",
      "median               : 28.0\n",
      "mode                 : (nan, 177)\n",
      "\n",
      "\n",
      "Column: Parch\n",
      "mean                 : 0.38159371492704824\n",
      "standard deviation   : 0.8060572211299559\n",
      "median               : 0.0\n",
      "mode                 : (0, 678)\n",
      "\n",
      "\n",
      "Column: Pclass\n",
      "mean                 : 2.308641975308642\n",
      "standard deviation   : 0.8360712409770513\n",
      "median               : 3.0\n",
      "mode                 : (3, 491)\n",
      "\n",
      "\n",
      "Column: Survived\n",
      "mean                 : 0.3838383838383838\n",
      "standard deviation   : 0.4865924542648585\n",
      "median               : 0.0\n",
      "mode                 : (0, 549)\n",
      "\n",
      "\n",
      "Column: SibSp\n",
      "mean                 : 0.5230078563411896\n",
      "standard deviation   : 1.1027434322934275\n",
      "median               : 0.0\n",
      "mode                 : (0, 608)\n",
      "\n",
      "\n",
      "Column: PassengerId\n",
      "mean                 : 446.0\n",
      "standard deviation   : 257.3538420152301\n",
      "median               : 447.0\n",
      "mode                 : (1, 1)\n",
      "\n",
      "\n"
     ]
    }
   ],
   "source": [
    "for col in non_str_cols:\n",
    "    print(\"Column: {}\".format(col))\n",
    "    get_sum_stats(data_dict_columns[col])\n",
    "    print('\\n')"
   ]
  },
  {
   "cell_type": "markdown",
   "metadata": {},
   "source": [
    "#### Fare\n",
    "\n",
    "Fare has a mean of 32 with a std of almost 50. Because the median is around 14 and the mode is 8, the data is skewed. Thus, the median is the most appropriate measure to describe this data.\n",
    "\n",
    "#### Age\n",
    "\n",
    "The mean and median of Age are close to each other, so the data is likely not heavily skewed. The mean is appropriate in this case.\n",
    "\n",
    "#### Parch\n",
    "\n",
    "The mode is descriptive here: 678 individuals out of our entire dataset traveled without parents or children.\n",
    "\n",
    "#### SibSp\n",
    "\n",
    "The mode is descriptive here: 608 individuals out of our entire dataset traveled without siblings or spouses.\n",
    "\n",
    "#### PassengerId\n",
    "\n",
    "No descriptive stastics are informative\n",
    "\n",
    "#### Pclass\n",
    "\n",
    "The mode is descriptive here. More than half the passengers are in class 3\n",
    "\n",
    "#### Survived\n",
    "\n",
    "The mean is important here. The mean is the frequentist probability of survival on the Titanic"
   ]
  },
  {
   "cell_type": "markdown",
   "metadata": {},
   "source": [
    "# 10. Splitting the Data to Predicting Survival\n",
    "\n",
    "For all the passengers in the dataset, the mean survival rate is around .38 (38% of the passengers survived). From our data, we may be able to profile who survived and who didn't!\n",
    "\n",
    "Split the data by pclass. Does the class a passenger was in affect survivability? You can do this by:\n",
    "* Creating a list of `True` and `False` values conditional on a column's value\n",
    "* Taking the mean of the `Survived` column where those values are `True`"
   ]
  },
  {
   "cell_type": "code",
   "execution_count": 40,
   "metadata": {},
   "outputs": [
    {
     "data": {
      "text/plain": [
       "{1, 2, 3}"
      ]
     },
     "execution_count": 40,
     "metadata": {},
     "output_type": "execute_result"
    }
   ],
   "source": [
    "set(data_dict_columns['Pclass'])"
   ]
  },
  {
   "cell_type": "code",
   "execution_count": 41,
   "metadata": {
    "collapsed": true
   },
   "outputs": [],
   "source": [
    "pclass_1_mask = [True if i == 1 else False for i in data_dict_columns['Pclass']]\n",
    "pclass_2_mask = [True if i == 2 else False for i in data_dict_columns['Pclass']]\n",
    "pclass_3_mask = [True if i == 3 else False for i in data_dict_columns['Pclass']]"
   ]
  },
  {
   "cell_type": "code",
   "execution_count": 42,
   "metadata": {
    "collapsed": true
   },
   "outputs": [],
   "source": [
    "pclass_1_prob = this_mean([i for i,j in zip(data_dict_columns['Survived'],pclass_1_mask) if j])\n",
    "pclass_2_prob = this_mean([i for i,j in zip(data_dict_columns['Survived'],pclass_2_mask) if j])\n",
    "pclass_3_prob = this_mean([i for i,j in zip(data_dict_columns['Survived'],pclass_3_mask) if j])"
   ]
  },
  {
   "cell_type": "code",
   "execution_count": 43,
   "metadata": {},
   "outputs": [
    {
     "data": {
      "text/plain": [
       "0.6296296296296297"
      ]
     },
     "metadata": {},
     "output_type": "display_data"
    },
    {
     "data": {
      "text/plain": [
       "0.47282608695652173"
      ]
     },
     "metadata": {},
     "output_type": "display_data"
    },
    {
     "data": {
      "text/plain": [
       "0.24236252545824846"
      ]
     },
     "metadata": {},
     "output_type": "display_data"
    }
   ],
   "source": [
    "display(pclass_1_prob)\n",
    "display(pclass_2_prob)\n",
    "display(pclass_3_prob)"
   ]
  },
  {
   "cell_type": "markdown",
   "metadata": {},
   "source": [
    "# 11. Independent Work\n",
    "\n",
    "Use the techniques from step 10 to make different conditional splits in the `Survived` column. Can you find a combination of splits that maximizes the survival rate?"
   ]
  },
  {
   "cell_type": "code",
   "execution_count": 44,
   "metadata": {
    "collapsed": true
   },
   "outputs": [],
   "source": [
    "child_mask = [True if i < 6.0 else False for i in data_dict_columns['Age']]\n",
    "\n",
    "female_mask = [True if i == 'female' else False for i in data_dict_columns['Sex']]"
   ]
  },
  {
   "cell_type": "code",
   "execution_count": 45,
   "metadata": {
    "collapsed": true
   },
   "outputs": [],
   "source": [
    "women_children_mask = [i&j for i,j in zip(child_mask, female_mask)]"
   ]
  },
  {
   "cell_type": "code",
   "execution_count": 46,
   "metadata": {
    "collapsed": true
   },
   "outputs": [],
   "source": [
    "women_children_prob = this_mean([i for i,j in zip(data_dict_columns['Survived'],women_children_mask) if j])"
   ]
  },
  {
   "cell_type": "code",
   "execution_count": 47,
   "metadata": {},
   "outputs": [
    {
     "data": {
      "text/plain": [
       "0.7619047619047619"
      ]
     },
     "execution_count": 47,
     "metadata": {},
     "output_type": "execute_result"
    }
   ],
   "source": [
    "women_children_prob"
   ]
  },
  {
   "cell_type": "markdown",
   "metadata": {},
   "source": [
    "# 12. Distributions\n",
    "\n",
    "### A) For each of your numeric features, use `pyplot` subplots to plot a hisogram for each feature.\n",
    "\n",
    "* Make sure to title each subplot.\n",
    "* If you get an error, it may be caused by `np.NaN`"
   ]
  },
  {
   "cell_type": "code",
   "execution_count": 50,
   "metadata": {
    "collapsed": true
   },
   "outputs": [],
   "source": [
    "import matplotlib.pyplot as plt\n",
    "%matplotlib inline"
   ]
  },
  {
   "cell_type": "code",
   "execution_count": 56,
   "metadata": {
    "collapsed": true
   },
   "outputs": [],
   "source": [
    "num_columns = ['Age','SibSp','Parch','Fare']"
   ]
  },
  {
   "cell_type": "code",
   "execution_count": 57,
   "metadata": {},
   "outputs": [
    {
     "data": {
      "image/png": "[encoded data removed]",
      "text/plain": [
       "<matplotlib.figure.Figure at 0x7f234809d898>"
      ]
     },
     "metadata": {},
     "output_type": "display_data"
    }
   ],
   "source": [
    "fig = plt.figure(figsize=(10,8))\n",
    "for i, col in enumerate(num_columns):\n",
    "    fig.add_subplot(2,2,1+i)\n",
    "    plt.hist([i for i in data_dict_columns[col] if not np.isnan(i)])\n",
    "    plt.title(col)\n"
   ]
  },
  {
   "cell_type": "markdown",
   "metadata": {},
   "source": [
    "### B) for each of these values, what's the 90% confidence interval of the population mean?\n",
    "\n",
    "* Create a function to find the confidence interval, and use it on each of the numeric columns.\n",
    "* What's your interpretation of the interval?"
   ]
  },
  {
   "cell_type": "code",
   "execution_count": 63,
   "metadata": {
    "collapsed": true
   },
   "outputs": [],
   "source": [
    "from scipy import stats\n",
    "\n",
    "def standard_error(dist):\n",
    "    return np.std(dist)/np.sqrt(len(dist))\n",
    "\n",
    "def zscore_from_confidence(confidence):\n",
    "    alpha = 1-confidence\n",
    "    return stats.norm.ppf(alpha/2)\n",
    "\n",
    "def confidence_interval_of_mean(distribution, confidence):\n",
    "    dist_mean = np.mean(distribution)\n",
    "    z = zscore_from_confidence(confidence)\n",
    "    stderr = standard_error(distribution)\n",
    "    lower_bound = dist_mean + z*stderr\n",
    "    upper_bound = dist_mean - z*stderr\n",
    "    return lower_bound, upper_bound"
   ]
  },
  {
   "cell_type": "code",
   "execution_count": 65,
   "metadata": {},
   "outputs": [
    {
     "name": "stdout",
     "output_type": "stream",
     "text": [
      "We are 90% sure the true mean of Age lies between 28.8055350160034 and 30.59270027811424\n",
      "We are 90% sure the true mean of SibSp lies between 0.4622756532063742 and 0.583740059476005\n",
      "We are 90% sure the true mean of Parch lies between 0.33720113052494716 and 0.42598629932914933\n",
      "We are 90% sure the true mean of Fare lies between 29.467405089819092 and 34.94101084733018\n"
     ]
    }
   ],
   "source": [
    "for col in num_columns:\n",
    "    lower, upper = confidence_interval_of_mean([i for i in data_dict_columns[col] if not np.isnan(i)], .9)\n",
    "    print(\"We are 90% sure the true mean of {} lies between {} and {}\".format(col, lower, upper))"
   ]
  },
  {
   "cell_type": "markdown",
   "metadata": {},
   "source": [
    "# 13. Pandas"
   ]
  },
  {
   "cell_type": "markdown",
   "metadata": {},
   "source": [
    "### A: Load the titanic csv into a `DataFrame` using `pd.read_csv()`"
   ]
  },
  {
   "cell_type": "code",
   "execution_count": 66,
   "metadata": {
    "collapsed": true
   },
   "outputs": [],
   "source": [
    "import pandas as pd"
   ]
  },
  {
   "cell_type": "code",
   "execution_count": 67,
   "metadata": {
    "collapsed": true
   },
   "outputs": [],
   "source": [
    "titanic_df = pd.read_csv('titanic.csv')"
   ]
  },
  {
   "cell_type": "markdown",
   "metadata": {},
   "source": [
    "### B: Display the first 5 rows, the last 4 rows, and a sample of 3 rows."
   ]
  },
  {
   "cell_type": "code",
   "execution_count": 68,
   "metadata": {},
   "outputs": [
    {
     "data": {
      "text/html": [
       "<div>\n",
       "<table border=\"1\" class=\"dataframe\">\n",
       "  <thead>\n",
       "    <tr style=\"text-align: right;\">\n",
       "      <th></th>\n",
       "      <th>PassengerId</th>\n",
       "      <th>Survived</th>\n",
       "      <th>Pclass</th>\n",
       "      <th>Name</th>\n",
       "      <th>Sex</th>\n",
       "      <th>Age</th>\n",
       "      <th>SibSp</th>\n",
       "      <th>Parch</th>\n",
       "      <th>Ticket</th>\n",
       "      <th>Fare</th>\n",
       "      <th>Cabin</th>\n",
       "      <th>Embarked</th>\n",
       "    </tr>\n",
       "  </thead>\n",
       "  <tbody>\n",
       "    <tr>\n",
       "      <th>0</th>\n",
       "      <td>1</td>\n",
       "      <td>0</td>\n",
       "      <td>3</td>\n",
       "      <td>Braund, Mr. Owen Harris</td>\n",
       "      <td>male</td>\n",
       "      <td>22.0</td>\n",
       "      <td>1</td>\n",
       "      <td>0</td>\n",
       "      <td>A/5 21171</td>\n",
       "      <td>7.2500</td>\n",
       "      <td>NaN</td>\n",
       "      <td>S</td>\n",
       "    </tr>\n",
       "    <tr>\n",
       "      <th>1</th>\n",
       "      <td>2</td>\n",
       "      <td>1</td>\n",
       "      <td>1</td>\n",
       "      <td>Cumings, Mrs. John Bradley (Florence Briggs Th...</td>\n",
       "      <td>female</td>\n",
       "      <td>38.0</td>\n",
       "      <td>1</td>\n",
       "      <td>0</td>\n",
       "      <td>PC 17599</td>\n",
       "      <td>71.2833</td>\n",
       "      <td>C85</td>\n",
       "      <td>C</td>\n",
       "    </tr>\n",
       "    <tr>\n",
       "      <th>2</th>\n",
       "      <td>3</td>\n",
       "      <td>1</td>\n",
       "      <td>3</td>\n",
       "      <td>Heikkinen, Miss. Laina</td>\n",
       "      <td>female</td>\n",
       "      <td>26.0</td>\n",
       "      <td>0</td>\n",
       "      <td>0</td>\n",
       "      <td>STON/O2. 3101282</td>\n",
       "      <td>7.9250</td>\n",
       "      <td>NaN</td>\n",
       "      <td>S</td>\n",
       "    </tr>\n",
       "    <tr>\n",
       "      <th>3</th>\n",
       "      <td>4</td>\n",
       "      <td>1</td>\n",
       "      <td>1</td>\n",
       "      <td>Futrelle, Mrs. Jacques Heath (Lily May Peel)</td>\n",
       "      <td>female</td>\n",
       "      <td>35.0</td>\n",
       "      <td>1</td>\n",
       "      <td>0</td>\n",
       "      <td>113803</td>\n",
       "      <td>53.1000</td>\n",
       "      <td>C123</td>\n",
       "      <td>S</td>\n",
       "    </tr>\n",
       "    <tr>\n",
       "      <th>4</th>\n",
       "      <td>5</td>\n",
       "      <td>0</td>\n",
       "      <td>3</td>\n",
       "      <td>Allen, Mr. William Henry</td>\n",
       "      <td>male</td>\n",
       "      <td>35.0</td>\n",
       "      <td>0</td>\n",
       "      <td>0</td>\n",
       "      <td>373450</td>\n",
       "      <td>8.0500</td>\n",
       "      <td>NaN</td>\n",
       "      <td>S</td>\n",
       "    </tr>\n",
       "  </tbody>\n",
       "</table>\n",
       "</div>"
      ],
      "text/plain": [
       "   PassengerId  Survived  Pclass  \\\n",
       "0            1         0       3   \n",
       "1            2         1       1   \n",
       "2            3         1       3   \n",
       "3            4         1       1   \n",
       "4            5         0       3   \n",
       "\n",
       "                                                Name     Sex   Age  SibSp  \\\n",
       "0                            Braund, Mr. Owen Harris    male  22.0      1   \n",
       "1  Cumings, Mrs. John Bradley (Florence Briggs Th...  female  38.0      1   \n",
       "2                             Heikkinen, Miss. Laina  female  26.0      0   \n",
       "3       Futrelle, Mrs. Jacques Heath (Lily May Peel)  female  35.0      1   \n",
       "4                           Allen, Mr. William Henry    male  35.0      0   \n",
       "\n",
       "   Parch            Ticket     Fare Cabin Embarked  \n",
       "0      0         A/5 21171   7.2500   NaN        S  \n",
       "1      0          PC 17599  71.2833   C85        C  \n",
       "2      0  STON/O2. 3101282   7.9250   NaN        S  \n",
       "3      0            113803  53.1000  C123        S  \n",
       "4      0            373450   8.0500   NaN        S  "
      ]
     },
     "execution_count": 68,
     "metadata": {},
     "output_type": "execute_result"
    }
   ],
   "source": [
    "titanic_df.head()"
   ]
  },
  {
   "cell_type": "code",
   "execution_count": 69,
   "metadata": {},
   "outputs": [
    {
     "data": {
      "text/html": [
       "<div>\n",
       "<table border=\"1\" class=\"dataframe\">\n",
       "  <thead>\n",
       "    <tr style=\"text-align: right;\">\n",
       "      <th></th>\n",
       "      <th>PassengerId</th>\n",
       "      <th>Survived</th>\n",
       "      <th>Pclass</th>\n",
       "      <th>Name</th>\n",
       "      <th>Sex</th>\n",
       "      <th>Age</th>\n",
       "      <th>SibSp</th>\n",
       "      <th>Parch</th>\n",
       "      <th>Ticket</th>\n",
       "      <th>Fare</th>\n",
       "      <th>Cabin</th>\n",
       "      <th>Embarked</th>\n",
       "    </tr>\n",
       "  </thead>\n",
       "  <tbody>\n",
       "    <tr>\n",
       "      <th>887</th>\n",
       "      <td>888</td>\n",
       "      <td>1</td>\n",
       "      <td>1</td>\n",
       "      <td>Graham, Miss. Margaret Edith</td>\n",
       "      <td>female</td>\n",
       "      <td>19.0</td>\n",
       "      <td>0</td>\n",
       "      <td>0</td>\n",
       "      <td>112053</td>\n",
       "      <td>30.00</td>\n",
       "      <td>B42</td>\n",
       "      <td>S</td>\n",
       "    </tr>\n",
       "    <tr>\n",
       "      <th>888</th>\n",
       "      <td>889</td>\n",
       "      <td>0</td>\n",
       "      <td>3</td>\n",
       "      <td>Johnston, Miss. Catherine Helen \"Carrie\"</td>\n",
       "      <td>female</td>\n",
       "      <td>NaN</td>\n",
       "      <td>1</td>\n",
       "      <td>2</td>\n",
       "      <td>W./C. 6607</td>\n",
       "      <td>23.45</td>\n",
       "      <td>NaN</td>\n",
       "      <td>S</td>\n",
       "    </tr>\n",
       "    <tr>\n",
       "      <th>889</th>\n",
       "      <td>890</td>\n",
       "      <td>1</td>\n",
       "      <td>1</td>\n",
       "      <td>Behr, Mr. Karl Howell</td>\n",
       "      <td>male</td>\n",
       "      <td>26.0</td>\n",
       "      <td>0</td>\n",
       "      <td>0</td>\n",
       "      <td>111369</td>\n",
       "      <td>30.00</td>\n",
       "      <td>C148</td>\n",
       "      <td>C</td>\n",
       "    </tr>\n",
       "    <tr>\n",
       "      <th>890</th>\n",
       "      <td>891</td>\n",
       "      <td>0</td>\n",
       "      <td>3</td>\n",
       "      <td>Dooley, Mr. Patrick</td>\n",
       "      <td>male</td>\n",
       "      <td>32.0</td>\n",
       "      <td>0</td>\n",
       "      <td>0</td>\n",
       "      <td>370376</td>\n",
       "      <td>7.75</td>\n",
       "      <td>NaN</td>\n",
       "      <td>Q</td>\n",
       "    </tr>\n",
       "  </tbody>\n",
       "</table>\n",
       "</div>"
      ],
      "text/plain": [
       "     PassengerId  Survived  Pclass                                      Name  \\\n",
       "887          888         1       1              Graham, Miss. Margaret Edith   \n",
       "888          889         0       3  Johnston, Miss. Catherine Helen \"Carrie\"   \n",
       "889          890         1       1                     Behr, Mr. Karl Howell   \n",
       "890          891         0       3                       Dooley, Mr. Patrick   \n",
       "\n",
       "        Sex   Age  SibSp  Parch      Ticket   Fare Cabin Embarked  \n",
       "887  female  19.0      0      0      112053  30.00   B42        S  \n",
       "888  female   NaN      1      2  W./C. 6607  23.45   NaN        S  \n",
       "889    male  26.0      0      0      111369  30.00  C148        C  \n",
       "890    male  32.0      0      0      370376   7.75   NaN        Q  "
      ]
     },
     "execution_count": 69,
     "metadata": {},
     "output_type": "execute_result"
    }
   ],
   "source": [
    "titanic_df.tail(4)"
   ]
  },
  {
   "cell_type": "code",
   "execution_count": 70,
   "metadata": {},
   "outputs": [
    {
     "data": {
      "text/html": [
       "<div>\n",
       "<table border=\"1\" class=\"dataframe\">\n",
       "  <thead>\n",
       "    <tr style=\"text-align: right;\">\n",
       "      <th></th>\n",
       "      <th>PassengerId</th>\n",
       "      <th>Survived</th>\n",
       "      <th>Pclass</th>\n",
       "      <th>Name</th>\n",
       "      <th>Sex</th>\n",
       "      <th>Age</th>\n",
       "      <th>SibSp</th>\n",
       "      <th>Parch</th>\n",
       "      <th>Ticket</th>\n",
       "      <th>Fare</th>\n",
       "      <th>Cabin</th>\n",
       "      <th>Embarked</th>\n",
       "    </tr>\n",
       "  </thead>\n",
       "  <tbody>\n",
       "    <tr>\n",
       "      <th>811</th>\n",
       "      <td>812</td>\n",
       "      <td>0</td>\n",
       "      <td>3</td>\n",
       "      <td>Lester, Mr. James</td>\n",
       "      <td>male</td>\n",
       "      <td>39.0</td>\n",
       "      <td>0</td>\n",
       "      <td>0</td>\n",
       "      <td>A/4 48871</td>\n",
       "      <td>24.15</td>\n",
       "      <td>NaN</td>\n",
       "      <td>S</td>\n",
       "    </tr>\n",
       "    <tr>\n",
       "      <th>425</th>\n",
       "      <td>426</td>\n",
       "      <td>0</td>\n",
       "      <td>3</td>\n",
       "      <td>Wiseman, Mr. Phillippe</td>\n",
       "      <td>male</td>\n",
       "      <td>NaN</td>\n",
       "      <td>0</td>\n",
       "      <td>0</td>\n",
       "      <td>A/4. 34244</td>\n",
       "      <td>7.25</td>\n",
       "      <td>NaN</td>\n",
       "      <td>S</td>\n",
       "    </tr>\n",
       "    <tr>\n",
       "      <th>253</th>\n",
       "      <td>254</td>\n",
       "      <td>0</td>\n",
       "      <td>3</td>\n",
       "      <td>Lobb, Mr. William Arthur</td>\n",
       "      <td>male</td>\n",
       "      <td>30.0</td>\n",
       "      <td>1</td>\n",
       "      <td>0</td>\n",
       "      <td>A/5. 3336</td>\n",
       "      <td>16.10</td>\n",
       "      <td>NaN</td>\n",
       "      <td>S</td>\n",
       "    </tr>\n",
       "  </tbody>\n",
       "</table>\n",
       "</div>"
      ],
      "text/plain": [
       "     PassengerId  Survived  Pclass                      Name   Sex   Age  \\\n",
       "811          812         0       3         Lester, Mr. James  male  39.0   \n",
       "425          426         0       3    Wiseman, Mr. Phillippe  male   NaN   \n",
       "253          254         0       3  Lobb, Mr. William Arthur  male  30.0   \n",
       "\n",
       "     SibSp  Parch      Ticket   Fare Cabin Embarked  \n",
       "811      0      0   A/4 48871  24.15   NaN        S  \n",
       "425      0      0  A/4. 34244   7.25   NaN        S  \n",
       "253      1      0   A/5. 3336  16.10   NaN        S  "
      ]
     },
     "execution_count": 70,
     "metadata": {},
     "output_type": "execute_result"
    }
   ],
   "source": [
    "titanic_df.sample(3)"
   ]
  },
  {
   "cell_type": "markdown",
   "metadata": {},
   "source": [
    "### C: Create a row mask that is `True` when `Pclass == 3`. Use this to mask your `DataFrame`. Find the mean of the `Survived` column. Is it the same as what we calculated in part 10?"
   ]
  },
  {
   "cell_type": "code",
   "execution_count": 71,
   "metadata": {
    "collapsed": true
   },
   "outputs": [],
   "source": [
    "pclass3_mask = titanic_df['Pclass'] == 3"
   ]
  },
  {
   "cell_type": "code",
   "execution_count": 72,
   "metadata": {
    "scrolled": true
   },
   "outputs": [
    {
     "data": {
      "text/plain": [
       "0.24236252545824846"
      ]
     },
     "execution_count": 72,
     "metadata": {},
     "output_type": "execute_result"
    }
   ],
   "source": [
    "titanic_df[pclass3_mask]['Survived'].mean()"
   ]
  },
  {
   "cell_type": "markdown",
   "metadata": {},
   "source": [
    "### D: Using a `.groupby()`, what is the mean of the survival column grouped by `Pclass` and `Sex`. What are your observations?"
   ]
  },
  {
   "cell_type": "code",
   "execution_count": 73,
   "metadata": {
    "scrolled": true
   },
   "outputs": [
    {
     "data": {
      "text/html": [
       "<div>\n",
       "<table border=\"1\" class=\"dataframe\">\n",
       "  <thead>\n",
       "    <tr style=\"text-align: right;\">\n",
       "      <th></th>\n",
       "      <th></th>\n",
       "      <th>Survived</th>\n",
       "    </tr>\n",
       "    <tr>\n",
       "      <th>Pclass</th>\n",
       "      <th>Sex</th>\n",
       "      <th></th>\n",
       "    </tr>\n",
       "  </thead>\n",
       "  <tbody>\n",
       "    <tr>\n",
       "      <th rowspan=\"2\" valign=\"top\">1</th>\n",
       "      <th>female</th>\n",
       "      <td>0.968085</td>\n",
       "    </tr>\n",
       "    <tr>\n",
       "      <th>male</th>\n",
       "      <td>0.368852</td>\n",
       "    </tr>\n",
       "    <tr>\n",
       "      <th rowspan=\"2\" valign=\"top\">2</th>\n",
       "      <th>female</th>\n",
       "      <td>0.921053</td>\n",
       "    </tr>\n",
       "    <tr>\n",
       "      <th>male</th>\n",
       "      <td>0.157407</td>\n",
       "    </tr>\n",
       "    <tr>\n",
       "      <th rowspan=\"2\" valign=\"top\">3</th>\n",
       "      <th>female</th>\n",
       "      <td>0.500000</td>\n",
       "    </tr>\n",
       "    <tr>\n",
       "      <th>male</th>\n",
       "      <td>0.135447</td>\n",
       "    </tr>\n",
       "  </tbody>\n",
       "</table>\n",
       "</div>"
      ],
      "text/plain": [
       "               Survived\n",
       "Pclass Sex             \n",
       "1      female  0.968085\n",
       "       male    0.368852\n",
       "2      female  0.921053\n",
       "       male    0.157407\n",
       "3      female  0.500000\n",
       "       male    0.135447"
      ]
     },
     "execution_count": 73,
     "metadata": {},
     "output_type": "execute_result"
    }
   ],
   "source": [
    "titanic_df.groupby(['Pclass','Sex'])[['Survived']].mean()"
   ]
  },
  {
   "cell_type": "markdown",
   "metadata": {},
   "source": [
    "### E: Survival Rate by Age Range:  `pd.cut()` takes two arguments: A `list`, `Series`, or `array`, and a list of bins. Create a new column in your `DataFrame` using `pd.cut()` that groups your ages into bins of 5 years. Then, use `.groupby()` to display the survival rate and count for each age group"
   ]
  },
  {
   "cell_type": "code",
   "execution_count": 74,
   "metadata": {
    "collapsed": true
   },
   "outputs": [],
   "source": [
    "titanic_df['age_group'] = pd.cut(titanic_df['Age'],range(0,81,5))"
   ]
  },
  {
   "cell_type": "code",
   "execution_count": 75,
   "metadata": {
    "scrolled": true
   },
   "outputs": [
    {
     "data": {
      "text/html": [
       "<div>\n",
       "<table border=\"1\" class=\"dataframe\">\n",
       "  <thead>\n",
       "    <tr>\n",
       "      <th></th>\n",
       "      <th colspan=\"2\" halign=\"left\">Survived</th>\n",
       "    </tr>\n",
       "    <tr>\n",
       "      <th></th>\n",
       "      <th>mean</th>\n",
       "      <th>count</th>\n",
       "    </tr>\n",
       "    <tr>\n",
       "      <th>age_group</th>\n",
       "      <th></th>\n",
       "      <th></th>\n",
       "    </tr>\n",
       "  </thead>\n",
       "  <tbody>\n",
       "    <tr>\n",
       "      <th>(0, 5]</th>\n",
       "      <td>0.704545</td>\n",
       "      <td>44</td>\n",
       "    </tr>\n",
       "    <tr>\n",
       "      <th>(5, 10]</th>\n",
       "      <td>0.350000</td>\n",
       "      <td>20</td>\n",
       "    </tr>\n",
       "    <tr>\n",
       "      <th>(10, 15]</th>\n",
       "      <td>0.578947</td>\n",
       "      <td>19</td>\n",
       "    </tr>\n",
       "    <tr>\n",
       "      <th>(15, 20]</th>\n",
       "      <td>0.343750</td>\n",
       "      <td>96</td>\n",
       "    </tr>\n",
       "    <tr>\n",
       "      <th>(20, 25]</th>\n",
       "      <td>0.344262</td>\n",
       "      <td>122</td>\n",
       "    </tr>\n",
       "    <tr>\n",
       "      <th>(25, 30]</th>\n",
       "      <td>0.388889</td>\n",
       "      <td>108</td>\n",
       "    </tr>\n",
       "    <tr>\n",
       "      <th>(30, 35]</th>\n",
       "      <td>0.465909</td>\n",
       "      <td>88</td>\n",
       "    </tr>\n",
       "    <tr>\n",
       "      <th>(35, 40]</th>\n",
       "      <td>0.417910</td>\n",
       "      <td>67</td>\n",
       "    </tr>\n",
       "    <tr>\n",
       "      <th>(40, 45]</th>\n",
       "      <td>0.361702</td>\n",
       "      <td>47</td>\n",
       "    </tr>\n",
       "    <tr>\n",
       "      <th>(45, 50]</th>\n",
       "      <td>0.410256</td>\n",
       "      <td>39</td>\n",
       "    </tr>\n",
       "    <tr>\n",
       "      <th>(50, 55]</th>\n",
       "      <td>0.416667</td>\n",
       "      <td>24</td>\n",
       "    </tr>\n",
       "    <tr>\n",
       "      <th>(55, 60]</th>\n",
       "      <td>0.388889</td>\n",
       "      <td>18</td>\n",
       "    </tr>\n",
       "    <tr>\n",
       "      <th>(60, 65]</th>\n",
       "      <td>0.285714</td>\n",
       "      <td>14</td>\n",
       "    </tr>\n",
       "    <tr>\n",
       "      <th>(65, 70]</th>\n",
       "      <td>0.000000</td>\n",
       "      <td>3</td>\n",
       "    </tr>\n",
       "    <tr>\n",
       "      <th>(70, 75]</th>\n",
       "      <td>0.000000</td>\n",
       "      <td>4</td>\n",
       "    </tr>\n",
       "    <tr>\n",
       "      <th>(75, 80]</th>\n",
       "      <td>1.000000</td>\n",
       "      <td>1</td>\n",
       "    </tr>\n",
       "  </tbody>\n",
       "</table>\n",
       "</div>"
      ],
      "text/plain": [
       "           Survived      \n",
       "               mean count\n",
       "age_group                \n",
       "(0, 5]     0.704545    44\n",
       "(5, 10]    0.350000    20\n",
       "(10, 15]   0.578947    19\n",
       "(15, 20]   0.343750    96\n",
       "(20, 25]   0.344262   122\n",
       "(25, 30]   0.388889   108\n",
       "(30, 35]   0.465909    88\n",
       "(35, 40]   0.417910    67\n",
       "(40, 45]   0.361702    47\n",
       "(45, 50]   0.410256    39\n",
       "(50, 55]   0.416667    24\n",
       "(55, 60]   0.388889    18\n",
       "(60, 65]   0.285714    14\n",
       "(65, 70]   0.000000     3\n",
       "(70, 75]   0.000000     4\n",
       "(75, 80]   1.000000     1"
      ]
     },
     "execution_count": 75,
     "metadata": {},
     "output_type": "execute_result"
    }
   ],
   "source": [
    "titanic_df.groupby(['age_group'])[['Survived']].agg(['mean','count'])"
   ]
  },
  {
   "cell_type": "markdown",
   "metadata": {},
   "source": [
    "# 14. Hypothesis Testing\n",
    "\n",
    "### A) Hypothesis:\n",
    "\n",
    "Create a null and alternate hypothesis to ask the following quesiton: Was the `Age` of survivors different from that of people who didn't survive?"
   ]
  },
  {
   "cell_type": "markdown",
   "metadata": {},
   "source": [
    "**Hypotheses:**\n",
    "\n",
    "$H_0$: No, the mean age of survivors is not different from those who didn't survive.\n",
    "\n",
    "$H_1$: Yes, the mean age is of survivors is different from those who didn't survive."
   ]
  },
  {
   "cell_type": "markdown",
   "metadata": {},
   "source": [
    "### B) T-Testing\n",
    "\n",
    "Use a t-test to test your null hypothesis. What's the p-value? What's your interpretation? Do you accept or reject your null hypothesis? What does this mean in terms of `Age`?"
   ]
  },
  {
   "cell_type": "code",
   "execution_count": 83,
   "metadata": {},
   "outputs": [
    {
     "data": {
      "text/plain": [
       "Ttest_indResult(statistic=-2.0666869462538102, pvalue=0.039124654013482488)"
      ]
     },
     "execution_count": 83,
     "metadata": {},
     "output_type": "execute_result"
    }
   ],
   "source": [
    "ttest = stats.ttest_ind\n",
    "\n",
    "survived_mask = titanic_df['Survived'] == 1\n",
    "\n",
    "survived_ages = titanic_df[survived_mask]['Age']\n",
    "dead_ages = titanic_df[~survived_mask]['Age']\n",
    "\n",
    "ttest(survived_ages.dropna(), dead_ages.dropna())"
   ]
  },
  {
   "cell_type": "markdown",
   "metadata": {},
   "source": [
    "**Interpretation**\n",
    "\n",
    "The pvalue is ~.04. In this case, there is sufficient evidence to reject our null hypothesis. There is likely a difference between the ages of surviving and non-surviving passengers on the Titanic."
   ]
  },
  {
   "cell_type": "markdown",
   "metadata": {},
   "source": [
    "# 15. Write-up\n",
    "\n",
    "Use markdown cells to answer the following questions:\n",
    "\n",
    "1. What is the main difference between a list and a tuple?\n",
    "2. Can you iterate over a dictionary? If so, how?\n",
    "3. What is the term for a list or array of `True` and `False` values used to select certain rows or columns in a `DataFrame`?\n",
    "4. If you have a continuous variable, when would the median be a better descriptor than the mean? Why?\n",
    "5. Give a qualitative description of the survivors of the titanic based on the effects of your splits in the data on survival rate. Or, given a row, what columns would you look at to guess if they survived?\n"
   ]
  },
  {
   "cell_type": "markdown",
   "metadata": {},
   "source": [
    "#### Answer:\n",
    "1. Tuples are **immutable** and denoted by `()`, while lists are mutable and denoted by `[]`.\n",
    "2. To iterate over a dictionary, you must use `.keys()` which returns an itterator for the dict keys, `.values()` which returns an itterator for the dict values, or `.items()` which returns an iterator of `(key, value)` pairs. \n",
    "3. mask, bitmask, row mask, column mask\n",
    "4. If the data is skewed, the median describes the data better than the mean. The mean does not well represent many of the data points, and the data is not centered about the mean.\n",
    "5. Pretty much, rich women and children survived. "
   ]
  },
  {
   "cell_type": "markdown",
   "metadata": {},
   "source": [
    "# 16. Evaluation\n",
    "\n",
    "Please use markdown cells to submit your responses. \n",
    "\n",
    "1. What was easy for you in this project?\n",
    "2. What was difficult?\n",
    "3. Where did you make the most improvement?\n",
    "4. Where would you like to improve?"
   ]
  },
  {
   "cell_type": "code",
   "execution_count": null,
   "metadata": {
    "collapsed": true
   },
   "outputs": [],
   "source": []
  }
 ],
 "metadata": {
  "kernelspec": {
   "display_name": "Python 3",
   "language": "python",
   "name": "python3"
  },
  "language_info": {
   "codemirror_mode": {
    "name": "ipython",
    "version": 3
   },
   "file_extension": ".py",
   "mimetype": "text/x-python",
   "name": "python",
   "nbconvert_exporter": "python",
   "pygments_lexer": "ipython3",
   "version": "3.6.2"
  }
 },
 "nbformat": 4,
 "nbformat_minor": 2
}

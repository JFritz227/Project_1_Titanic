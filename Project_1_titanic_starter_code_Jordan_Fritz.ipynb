{
 "cells": [
  {
   "cell_type": "markdown",
   "metadata": {},
   "source": [
    "![](https://upload.wikimedia.org/wikipedia/en/b/bb/Titanic_breaks_in_half.jpg)"
   ]
  },
  {
   "cell_type": "markdown",
   "metadata": {},
   "source": [
    "# Project 1: [Titanic](https://www.kaggle.com/c/titanic/data)\n",
    "---\n",
    "\n",
    "The sinking of the RMS Titanic is one of the most infamous shipwrecks in history.  On April 15, 1912, during her maiden voyage, the Titanic sank after colliding with an iceberg, killing 1502 out of 2224 passengers and crew. This sensational tragedy shocked the international community and led to better safety regulations for ships.\n",
    "\n",
    "One of the reasons that the shipwreck led to such loss of life was that there were not enough lifeboats for the passengers and crew. Although there was some element of luck involved in surviving the sinking, some groups of people were more likely to survive than others, such as women, children, and the upper-class.\n",
    "\n",
    "In this project, you will exercise your skills with loading data, python data structures, and Pandas to identify charactaristics of Titanic survivors!\n",
    "\n",
    "---\n",
    "#### Your goals should be to:\n",
    "* Practice python programming including loops, conditionals, types, functions, and data structures\n",
    "* Start thinking critically about manipulating, organizing, and interpreting data\n",
    "* Troubleshoot errors\n",
    "\n",
    "---\n",
    "#### Getting Started:\n",
    "* **fork** the repository on git.generalassemb.ly\n",
    "* **clone** your forked repo\n",
    "\n",
    "---\n",
    "#### Submission:\n",
    "* You should be working on a **fork** of the GA project one repository. \n",
    "* Use **git** to manage versions of your project. Make sure to `add`, `commit`, and `push` your changes to **your fork** of the github \n",
    "* Submit a link to your project repository in the submission form by **Friday, 9/29 11:59 PM**. You will then receive the solutions.\n",
    "* Create a copy of your original notebook (file > make a copy in jupyter notebook)\n",
    "* In the copy, use the solutions to correct your work. Make sure to take note of your successes and struggles. Did you learn anything new from correcting your work?\n",
    "* Submit the corrected version by **Sunday, 10/1 11:59 PM** to receive instructor feedback on your work. ***Projects submitted after this deadline will not receive instructor feedback.***"
   ]
  },
  {
   "cell_type": "markdown",
   "metadata": {},
   "source": [
    "### Considerations:\n",
    "\n",
    "* You will be generating long data strutures- avoid displaying the whole thing. Display just the first or last few entries and look at the length or shape to check whether your code gives you back what you want and expect.\n",
    "* Make functions whenever possiblle!\n",
    "* Be explicit with your naming. You may forget what `this_list` is, but you will have an idea of what `passenger_fare_list` is. Variable naming will help you in the long run!\n",
    "* Don't forget about tab autocomplete!\n",
    "* Use markdown cells to document your planning, thoughts, and results. \n",
    "* Delete cells you will not include in your final submission\n",
    "* Try to solve your own problems using this framework:\n",
    "  1. Check your spelling\n",
    "  2. Google your errors. Is it on stackoverflow?\n",
    "  3. Ask your classmates\n",
    "  4. Ask a TA or instructor\n",
    "* Do not include errors or stack traces (fix them!)"
   ]
  },
  {
   "cell_type": "markdown",
   "metadata": {},
   "source": [
    "# 1. Using the `with open()` method in the `csv` library, load the titanic dataset into a list of lists.\n",
    "\n",
    "* The `type()` of your dataset should be `list`\n",
    "* The `type()` of each element in your dataset should also be `list`\n",
    "* The `len()` of your dataset should be 892 (892 rows, including the header)\n",
    "* The `len()` of each row element in your dataset should be have a `len()` of 12\n",
    "* Print out the first 3 rows including the header to check your data."
   ]
  },
  {
   "cell_type": "code",
   "execution_count": 251,
   "metadata": {},
   "outputs": [],
   "source": [
    "import csv\n",
    "from IPython.display import display\n",
    "import numpy as np"
   ]
  },
  {
   "cell_type": "code",
   "execution_count": 252,
   "metadata": {},
   "outputs": [
    {
     "data": {
      "text/plain": [
       "[['PassengerId',\n",
       "  'Survived',\n",
       "  'Pclass',\n",
       "  'Name',\n",
       "  'Sex',\n",
       "  'Age',\n",
       "  'SibSp',\n",
       "  'Parch',\n",
       "  'Ticket',\n",
       "  'Fare',\n",
       "  'Cabin',\n",
       "  'Embarked'],\n",
       " ['1',\n",
       "  '0',\n",
       "  '3',\n",
       "  'Braund, Mr. Owen Harris',\n",
       "  'male',\n",
       "  '22',\n",
       "  '1',\n",
       "  '0',\n",
       "  'A/5 21171',\n",
       "  '7.25',\n",
       "  '',\n",
       "  'S'],\n",
       " ['2',\n",
       "  '1',\n",
       "  '1',\n",
       "  'Cumings, Mrs. John Bradley (Florence Briggs Thayer)',\n",
       "  'female',\n",
       "  '38',\n",
       "  '1',\n",
       "  '0',\n",
       "  'PC 17599',\n",
       "  '71.2833',\n",
       "  'C85',\n",
       "  'C']]"
      ]
     },
     "metadata": {},
     "output_type": "display_data"
    }
   ],
   "source": [
    "# load titanic.csv in to a list of lists using csv.reader() and with open()\n",
    "with open('titanic.csv') as titanic: \n",
    "    csv = csv.reader(titanic)\n",
    "    titanic_list = list(csv)\n",
    "\n",
    "display(titanic_list[0:3])"
   ]
  },
  {
   "cell_type": "markdown",
   "metadata": {},
   "source": [
    "# 2. Separate the first header row from the rest of your dataset. \n",
    "\n",
    "* The header should be a list of the column names\n",
    "* The data should be the rest of your data\n",
    "* Display the header and the first row of the dataset zipped together using `zip`\n",
    "* Your result should look like...\n",
    "\n",
    "\n",
    "```\n",
    "[('PassengerId', '1'),\n",
    " ('Survived', '0'),\n",
    " ('Pclass', '3'),\n",
    " ...\n",
    " ('Embarked', 'S')]\n",
    " ```"
   ]
  },
  {
   "cell_type": "code",
   "execution_count": 253,
   "metadata": {},
   "outputs": [
    {
     "data": {
      "text/plain": [
       "[('PassengerId', '1'),\n",
       " ('Survived', '0'),\n",
       " ('Pclass', '3'),\n",
       " ('Name', 'Braund, Mr. Owen Harris'),\n",
       " ('Sex', 'male'),\n",
       " ('Age', '22'),\n",
       " ('SibSp', '1'),\n",
       " ('Parch', '0'),\n",
       " ('Ticket', 'A/5 21171'),\n",
       " ('Fare', '7.25'),\n",
       " ('Cabin', ''),\n",
       " ('Embarked', 'S')]"
      ]
     },
     "metadata": {},
     "output_type": "display_data"
    }
   ],
   "source": [
    "# set header as the list of column names, data as the rest of the data. Zip these together to create tuples and display the first passenger's data (ID = 1) and the zipped header contents\n",
    "header = titanic_list[0]\n",
    "data = titanic_list[1:]\n",
    "first_zip = zip(header, data[0])\n",
    "\n",
    "display(list(first_zip))"
   ]
  },
  {
   "cell_type": "markdown",
   "metadata": {},
   "source": [
    "# 3. Using a `for` loop, load your data into a `dict` called `data_dict`.\n",
    "\n",
    "* The keys of your `data_dict` should be `PassengerId`\n",
    "* The values of your `data_dict` should be dictionaries...\n",
    "  * Each of these dictionaries should reperesent a column value within a row\n",
    "  * The keys should be the names of the columns\n",
    "  * The values should be the values of that column\n",
    "  \n",
    "The beginning of your `data_dict` should look like: \n",
    "\n",
    "    {'1': {'Age': '22',\n",
    "      'Cabin': '',\n",
    "      'Embarked': 'S',\n",
    "      'Fare': '7.25',\n",
    "      'Name': 'Braund, Mr. Owen Harris',\n",
    "      'Parch': '0',\n",
    "      'Pclass': '3',\n",
    "      'Sex': 'male',\n",
    "      'SibSp': '1',\n",
    "      'Survived': '0',\n",
    "      'Ticket': 'A/5 21171'},\n",
    "     '10': {'Age': '14',\n",
    "      'Cabin': '',\n",
    "      'Embarked': 'C',\n",
    "      'Fare': '30.0708',\n",
    "      'Name': 'Nasser, Mrs. Nicholas (Adele Achem)',\n",
    "      'Parch': '0',\n",
    "      'Pclass': '2',\n",
    "      'Sex': 'female',\n",
    "      'SibSp': '1',\n",
    "      'Survived': '1',\n",
    "      'Ticket': '237736'},\n",
    "      ...\n",
    "      }"
   ]
  },
  {
   "cell_type": "code",
   "execution_count": 344,
   "metadata": {},
   "outputs": [
    {
     "data": {
      "text/plain": [
       "{'Age': '22',\n",
       " 'Cabin': '',\n",
       " 'Embarked': 'S',\n",
       " 'Fare': '7.25',\n",
       " 'Name': 'Braund, Mr. Owen Harris',\n",
       " 'Parch': '0',\n",
       " 'Pclass': '3',\n",
       " 'Sex': 'male',\n",
       " 'SibSp': '1',\n",
       " 'Survived': '0',\n",
       " 'Ticket': 'A/5 21171'}"
      ]
     },
     "metadata": {},
     "output_type": "display_data"
    }
   ],
   "source": [
    "# create a data dictionary with the first key:value pair as the key = PassengerId and the value = another data dictionary. Inside this second dictionary, the key:value pairs are the key = column name ('Age', 'SibSp', etc.) and the value is the value associated with that passenger in that column \n",
    "data_dict = {}\n",
    "for j in data:\n",
    "    for a, b in zip(header ,j):\n",
    "        if a == 'PassengerId':\n",
    "            c = b\n",
    "            data_dict[c] = {}\n",
    "        else:\n",
    "            data_dict[c].update({a:b})\n",
    "    \n",
    "# only displaying one passenger's dictionary so that there is not too much output\n",
    "display(data_dict['1'])"
   ]
  },
  {
   "cell_type": "markdown",
   "metadata": {},
   "source": [
    "# 4. Repeat step 3 using a dictionary comprehension.\n",
    "\n",
    "* Using `==`, check if your `data_dict` from your `for` loop is the same as the one from your dictionary comprehension."
   ]
  },
  {
   "cell_type": "code",
   "execution_count": 432,
   "metadata": {},
   "outputs": [
    {
     "data": {
      "text/plain": [
       "{'1': {'Age': '22',\n",
       "  'Cabin': '',\n",
       "  'Embarked': 'S',\n",
       "  'Fare': '7.25',\n",
       "  'Name': 'Braund, Mr. Owen Harris',\n",
       "  'Parch': '0',\n",
       "  'Pclass': '3',\n",
       "  'Sex': 'male',\n",
       "  'SibSp': '1',\n",
       "  'Survived': '0',\n",
       "  'Ticket': 'A/5 21171'}}"
      ]
     },
     "metadata": {},
     "output_type": "display_data"
    }
   ],
   "source": [
    "# tried to create a dictionary comprehension. For some reason, it outputs two nested dictionaries with the PassengerId as a key for the first two. If the 'j[0] term is deleted from the line 'data_dict_comp[j[0]] = .....' then the output is correct, however it is only the last passenger (ID = 891)\n",
    "\n",
    "data_dict_comp = {}\n",
    "\n",
    "for j in data:\n",
    "    dict_comprehension = {a:b for a, b in zip(header, j) if a != 'PassengerId'}\n",
    "    data_dict_comp[j[0]] = {b:dict_comprehension for a, b in zip(header, j) if a =='PassengerId'}\n",
    "    \n",
    "display(data_dict_comp['1'])"
   ]
  },
  {
   "cell_type": "code",
   "execution_count": null,
   "metadata": {},
   "outputs": [],
   "source": [
    " {b: for a, b in zip(header, j) if a == 'PassengerId'}"
   ]
  },
  {
   "cell_type": "markdown",
   "metadata": {},
   "source": [
    "# 5. Transform your `data_dict` to be oriented by column and call it `data_dict_columns`\n",
    "\n",
    "* Currently, our `data_dict` is oriented by row, indexed by `\"PassengerId\"`. \n",
    "* Transform your data so that the title of each row is a key, the values are of type `list` and represent column vectors.\n",
    "\n",
    "If you display `data_dict_columns`, the beginning should look like...\n",
    "\n",
    "    {'Age': ['25',\n",
    "      '36',\n",
    "      '24',\n",
    "      '40',\n",
    "      '45',\n",
    "      '2',\n",
    "      '24',\n",
    "      '28',\n",
    "      '33',\n",
    "      '26',\n",
    "      '39',\n",
    "      ..."
   ]
  },
  {
   "cell_type": "code",
   "execution_count": 256,
   "metadata": {},
   "outputs": [
    {
     "data": {
      "text/plain": [
       "['22',\n",
       " '38',\n",
       " '26',\n",
       " '35',\n",
       " '35',\n",
       " '',\n",
       " '54',\n",
       " '2',\n",
       " '27',\n",
       " '14',\n",
       " '4',\n",
       " '58',\n",
       " '20',\n",
       " '39',\n",
       " '14',\n",
       " '55',\n",
       " '2',\n",
       " '',\n",
       " '31',\n",
       " '',\n",
       " '35',\n",
       " '34',\n",
       " '15',\n",
       " '28',\n",
       " '8']"
      ]
     },
     "metadata": {},
     "output_type": "display_data"
    }
   ],
   "source": [
    "# oriented the dictionary as follows: key:value pairs are key = column name ('Age', 'SibSp', etc.) and value = list of all data for that specific column \n",
    "\n",
    "from collections import defaultdict\n",
    "\n",
    "data_dict_columns = defaultdict(list)\n",
    "for j in data_dict:\n",
    "    for a in data_dict[j]:\n",
    "        data_dict_columns[a].append(data_dict[j][a])\n",
    "# only displaying the first 25 data points of the 'Age' column to conserve space\n",
    "display(data_dict_columns['Age'][0:25])"
   ]
  },
  {
   "cell_type": "markdown",
   "metadata": {},
   "source": [
    "# 6. Data Types\n",
    "\n",
    "What is the current `type` of each column? What do you think the data type of each column *should* be? The data types in Python are...\n",
    "\n",
    "* `int`\n",
    "* `float`\n",
    "* `str`\n",
    "* `bool`\n",
    "* `tuple`\n",
    "* `list`\n",
    "* `dict`\n",
    "* `set`\n",
    "\n",
    "In a markdown cell, describe what each column represents and what the `type` of each value should be. **Extra:** If you want to be fancy, use a [markdown table](https://github.com/adam-p/markdown-here/wiki/Markdown-Cheatsheet#tables) to display your results."
   ]
  },
  {
   "cell_type": "markdown",
   "metadata": {},
   "source": [
    "PassengerId - Represents an assigned PassengerId numbered 1 through 892. This should be an integer.\n",
    "\n",
    "Survived - If the corresponding passenger survived, Survived = 1. If they did not survive, Survived = 0. This should also be an integer.\n",
    "\n",
    "PClass - The socioeconomic class that the passenger belonged to, upper class = 1, middle class = 2, lower class = 3. This should also be represented by an integer.\n",
    "\n",
    "Name - The name and title of the passenger. This should be represented by a string.\n",
    "\n",
    "Sex - The sex of the passenger. This should be represented by a string.\n",
    "\n",
    "Age - The age of the passenger. This should be represented by a float since some of the ages are entered as decimals.\n",
    "\n",
    "SibSp - This column represents the number of siblings and/or spouses aboard the Titanic with the corresponding passenger. This should be represented by an integer.\n",
    "\n",
    "Parch - Represents the number of parents and/or children aboard the Titanic with the corresponding passenger. This should also be represented by an integer.\n",
    "\n",
    "Ticket - The ticket number of the passenger's ticket. Although called a ticket number, this should be represented as a string since the ticket numbers include both letters and numbers.\n",
    "\n",
    "Fare - Amount of money the passenger spent on their ticket aboard the Titanic. Should be represented as a float object.\n",
    "\n",
    "Cabin - The cabin number where the passenger was staying aboard the Titanic. The cabin number includes both letters and numbers and, therefore, should be represented as a string.\n",
    "\n",
    "Embarked - The port that the passenger embarked from. This is represented as a single upper-case letter, therefore, should be represented as a string."
   ]
  },
  {
   "cell_type": "markdown",
   "metadata": {},
   "source": [
    "# 7. Transform each column to the appropriate type if needed.\n",
    "\n",
    "Build a function called `transform_column` that takes arguments for a `data_dict`, `column_name`, and `datatype`, and use it to transofm the columns that need transformation.\n",
    "\n",
    "**NOTE:** There are values in this dataset that cannot be directly cast to a numerical value. Use `if/then` or `try/except` statements to handle errors. \n",
    "\n",
    "**To help identify potential sources of errors, explore the `set` of values in each column.**"
   ]
  },
  {
   "cell_type": "code",
   "execution_count": 257,
   "metadata": {},
   "outputs": [],
   "source": [
    "# create a function that takes a data dictionary (in this case data_dict_columns is the default), the column name and the datatype that the column should be changed to\n",
    "def transform_column(column_name, datatype, data_dict = data_dict_columns):\n",
    "    new_data_dict = {}\n",
    "    \n",
    "    # loop through the dictionary until you find the correct column name\n",
    "    for j in data_dict:\n",
    "        if j == column_name:\n",
    "            new_data_dict[j] = []\n",
    "            \n",
    "            # using the column name, loop through all data in that specific column\n",
    "            for a in data_dict[j]:\n",
    "                \n",
    "                # try to change the datatype to the type set in the function\n",
    "                try:\n",
    "                    if a == '':\n",
    "                        pass\n",
    "                    else:\n",
    "                        new_data_dict[j].append(datatype(a))\n",
    "                        \n",
    "                # if the datatype cannot be converted to the type specified, then just append the original data and move to the next one        \n",
    "                except:\n",
    "                    new_data_dict[j].append(a)\n",
    "                \n",
    "    # loop through this newly made data dictionary\n",
    "    for l in new_data_dict:\n",
    "        \n",
    "        # once the column name is found that we are operating on, replace the column name in the actual dictionary with our newly created dictionary\n",
    "        if l == column_name:\n",
    "            data_dict[l] = new_data_dict[l]\n",
    "    return data_dict\n",
    "\n",
    "# these are all of the function calls in order to convert the columns to the correct datatypes\n",
    "transform_column('Survived', int)\n",
    "transform_column('Age', float)\n",
    "transform_column('SibSp', int)\n",
    "transform_column('Parch', int)\n",
    "transform_column('Pclass', int)\n",
    "transform_column('Fare', float)\n",
    "\n",
    "# added the following so that there is no output printed. The output was really long and took up a ton of space.\n",
    "space_function = []"
   ]
  },
  {
   "cell_type": "markdown",
   "metadata": {},
   "source": [
    "# 8. Build functions to calculate the mean, sample standard deviation, and median of a list of ints or floats. Use `scipy.stats.mode` or build your own mode function!\n",
    "\n",
    "\n",
    "If you filled any missing values with `np.NaN`, you may need to handle that in your functions (look up `np.isnan()`).\n",
    "\n",
    "If building a `mode` function is too difficult, you import mode from `scipy.stats` using `from scipy.stats import mode`.\n",
    "\n",
    "**Optional:**  Build a function for calculating the Mode that returns the mode value *and* the count of that value. Mode is tricky, so start by building a function that counts the occurances of each value. You may also need to sort using a `key` with a `lambda function` inside. You may also find a `defaultdict` useful."
   ]
  },
  {
   "cell_type": "markdown",
   "metadata": {},
   "source": [
    "Mean"
   ]
  },
  {
   "cell_type": "code",
   "execution_count": 258,
   "metadata": {
    "scrolled": true
   },
   "outputs": [],
   "source": [
    "# create a function that finds the mean of a given list\n",
    "\n",
    "def this_mean(data_list):\n",
    "    \n",
    "    # initialize variables\n",
    "    total = 0\n",
    "    mean = 0\n",
    "    new_data_list = []\n",
    "    \n",
    "    # loop through the data list\n",
    "    for length in range(len(data_list)):\n",
    "        \n",
    "        # if the data is an empty string, pass and continue on to the next data point\n",
    "        if data_list[length] == '':\n",
    "            pass\n",
    "        \n",
    "        # if the data is not an empty string, append it to the new data list\n",
    "        else:\n",
    "            new_data_list.append(data_list[length])\n",
    "            \n",
    "    # loop through the new data list and add up all of the values\n",
    "    for length in range(len(new_data_list)):\n",
    "        total += new_data_list[length]\n",
    "        \n",
    "    # return the total of all of the values added up divided by the total number of values (the average)\n",
    "    return total/len(new_data_list)"
   ]
  },
  {
   "cell_type": "markdown",
   "metadata": {},
   "source": [
    "Standard Deviation"
   ]
  },
  {
   "cell_type": "code",
   "execution_count": 259,
   "metadata": {},
   "outputs": [],
   "source": [
    "# create a function that finds the standard deviation of a given list\n",
    "\n",
    "def this_std(data_list):\n",
    "    \n",
    "    # if we are working with the Fare list or the Age list, the list should be represented in floats\n",
    "    if data_list == data_dict_columns['Fare'] or data_list == data_dict_columns['Age']:\n",
    "        transform_column(data_list, float)\n",
    "        \n",
    "    # if we are not working with the Fare or the Age list, it should be represented as an int\n",
    "    else:\n",
    "        transform_column(data_list, int)\n",
    "        \n",
    "    # initialize variables  \n",
    "    deviation_value = 0\n",
    "    standard_deviation = 0\n",
    "    length_of_list = len(data_list)\n",
    "    \n",
    "    # loop through the data list\n",
    "    for length in range(len(data_list)):\n",
    "        \n",
    "        # if the list contains an empty string, the length of the list is one data point shorter than previously thought\n",
    "        if data_list[length] =='':\n",
    "            length_of_list -= 1\n",
    "            \n",
    "        # if it is not an empty string, add all points together for the (mean of the data - that particular data point) squared\n",
    "        else:\n",
    "            deviation_value += ((this_mean(data_list) - data_list[length]) ** 2)\n",
    "            \n",
    "    # this is the standard deviation equation\n",
    "    standard_deviation = np.sqrt(deviation_value/(length_of_list))\n",
    "    return standard_deviation"
   ]
  },
  {
   "cell_type": "markdown",
   "metadata": {},
   "source": [
    "Median"
   ]
  },
  {
   "cell_type": "code",
   "execution_count": 260,
   "metadata": {},
   "outputs": [],
   "source": [
    "# create a function to find the median of the data list\n",
    "\n",
    "def this_median(data_list):\n",
    "    \n",
    "    # sort the data list in order from lowest to highest\n",
    "    new_data_list = sorted(data_list)\n",
    "    \n",
    "    # return the value that is at the midpoint of the data list\n",
    "    return new_data_list[round(len(new_data_list)/2)]"
   ]
  },
  {
   "cell_type": "markdown",
   "metadata": {},
   "source": [
    "Mode"
   ]
  },
  {
   "cell_type": "code",
   "execution_count": 261,
   "metadata": {},
   "outputs": [],
   "source": [
    "# initial attempt at creating a mode function, Age and SibSp kept throwing errors so I restarted (below)\n",
    "\n",
    "# def this_mode(data_list):\n",
    "#    count = []\n",
    "#    for j in range(len(data_list)):\n",
    "#        incrementer = 0\n",
    "#        for i in range(len(data_list)):\n",
    "#            if data_list[j] == data_list[i]:\n",
    "#                incrementer += 1\n",
    "#                count.append(incrementer)\n",
    "#            else:\n",
    "#                pass\n",
    "#    actual_count = 0\n",
    "#    keep = 0\n",
    "#    for u in range(len(count)):\n",
    "#        if count[u] > actual_count:\n",
    "#            actual_count = count[u]\n",
    "#            keep = u\n",
    "#    return data_list[keep], actual_count\n",
    "# this_mode(data_dict_columns['Parch'])"
   ]
  },
  {
   "cell_type": "code",
   "execution_count": 262,
   "metadata": {},
   "outputs": [],
   "source": [
    "# create a function that finds the mode of a given data list\n",
    "\n",
    "def this_mode(data_list):\n",
    "    \n",
    "    # initialize variables\n",
    "    our_dict = {}\n",
    "    final_counter = 0\n",
    "    keep = 0\n",
    "    \n",
    "    # loop through the contents of the list\n",
    "    for i in data_list:\n",
    "        counter = 0\n",
    "        \n",
    "        # create another loop through the contents of the list. When the outer loop equals the inner loop, add 1 to the counter. Otherwise, pass on to the next data point\n",
    "        for j in data_list:\n",
    "            if i == j:\n",
    "                counter += 1\n",
    "            else:\n",
    "                pass\n",
    "            \n",
    "        # create a dictionary with key:value pairs key = data and value = number of times that data appears in the list\n",
    "        our_dict[i] = counter\n",
    "        \n",
    "    # loop through the newly created dictionary\n",
    "    for j in our_dict:\n",
    "        this_counter = our_dict[j]\n",
    "        \n",
    "        # if the current data has a higher count than any previous data, then assign this new value to the keep variable and the count of this to the final counter. The loop will continue to loop through and will end up with the highest counter and the value corresponding to that counter\n",
    "        if this_counter > final_counter:\n",
    "            keep = j\n",
    "            final_counter = this_counter\n",
    "        else:\n",
    "            final_counter = final_counter\n",
    "    \n",
    "    # return the tuple (data, count of data)\n",
    "    return keep, final_counter  "
   ]
  },
  {
   "cell_type": "markdown",
   "metadata": {},
   "source": [
    "# 9. Summary Statistics of Numerical Columns\n",
    "\n",
    "For numerical columns, what is the mean, standard deviation, mean, and mode for that data? Which measure of central tendency is the most descriptive of each column? Why? Explain your answer in a markdown cell."
   ]
  },
  {
   "cell_type": "code",
   "execution_count": 263,
   "metadata": {},
   "outputs": [
    {
     "data": {
      "text/plain": [
       "'The mean age aboard the Titanic was 29.69911764705882 years old'"
      ]
     },
     "metadata": {},
     "output_type": "display_data"
    },
    {
     "data": {
      "text/plain": [
       "'The standard deviation of age aboard the Titanic was 14.516321150817317 years'"
      ]
     },
     "metadata": {},
     "output_type": "display_data"
    },
    {
     "data": {
      "text/plain": [
       "'The median age aboard the Titanic was 28.0 years old'"
      ]
     },
     "metadata": {},
     "output_type": "display_data"
    },
    {
     "data": {
      "text/plain": [
       "'The mode age aboard the Titanic was 24.0 years old which appeared 30 times'"
      ]
     },
     "metadata": {},
     "output_type": "display_data"
    },
    {
     "name": "stdout",
     "output_type": "stream",
     "text": [
      "\n",
      "\n"
     ]
    },
    {
     "data": {
      "text/plain": [
       "'The survival rate aboard the Titanic was 0.3838383838383838'"
      ]
     },
     "metadata": {},
     "output_type": "display_data"
    },
    {
     "data": {
      "text/plain": [
       "'The standard deviation of the survival rate aboard the Titanic was 0.48631931786710086'"
      ]
     },
     "metadata": {},
     "output_type": "display_data"
    },
    {
     "data": {
      "text/plain": [
       "'The median survival (1 or 0) aboard the Titanic was 0'"
      ]
     },
     "metadata": {},
     "output_type": "display_data"
    },
    {
     "data": {
      "text/plain": [
       "'The mode survival (1 or 0) aboard the Titanic was 0 which appeared 549 times'"
      ]
     },
     "metadata": {},
     "output_type": "display_data"
    },
    {
     "name": "stdout",
     "output_type": "stream",
     "text": [
      "\n",
      "\n"
     ]
    },
    {
     "data": {
      "text/plain": [
       "'The mean socioeconomic class aboard the Titanic was 2.308641975308642'"
      ]
     },
     "metadata": {},
     "output_type": "display_data"
    },
    {
     "data": {
      "text/plain": [
       "'The standard deviation of socioeconomic class aboard the Titanic was 0.8356019334795189'"
      ]
     },
     "metadata": {},
     "output_type": "display_data"
    },
    {
     "data": {
      "text/plain": [
       "'The median socioeconomic class aboard the Titanic was 3'"
      ]
     },
     "metadata": {},
     "output_type": "display_data"
    },
    {
     "data": {
      "text/plain": [
       "'The mode socioeconomic class aboard the Titanic was 3 which appeared 491 times'"
      ]
     },
     "metadata": {},
     "output_type": "display_data"
    },
    {
     "name": "stdout",
     "output_type": "stream",
     "text": [
      "\n",
      "\n"
     ]
    },
    {
     "data": {
      "text/plain": [
       "'The mean number of siblings and/or spouses that each passenger had aboard the Titanic was 0.5230078563411896'"
      ]
     },
     "metadata": {},
     "output_type": "display_data"
    },
    {
     "data": {
      "text/plain": [
       "'The standard deviation of number of siblings and/or spouses aboard the Titanic was 1.1021244350892836'"
      ]
     },
     "metadata": {},
     "output_type": "display_data"
    },
    {
     "data": {
      "text/plain": [
       "'The median number of siblings and/or spouses aboard the Titanic for each passenger was 0'"
      ]
     },
     "metadata": {},
     "output_type": "display_data"
    },
    {
     "data": {
      "text/plain": [
       "'The mode number of siblings and/or spouses aboard the Titanic for each passenger was 0 which appeared 608 times'"
      ]
     },
     "metadata": {},
     "output_type": "display_data"
    },
    {
     "name": "stdout",
     "output_type": "stream",
     "text": [
      "\n",
      "\n"
     ]
    },
    {
     "data": {
      "text/plain": [
       "'The mean number of parents and/or children that each passenger had aboard the Titanic was 0.38159371492704824'"
      ]
     },
     "metadata": {},
     "output_type": "display_data"
    },
    {
     "data": {
      "text/plain": [
       "'The standard deviation of parents and/or children that each passenger had aboard the Titanic was 0.8056047612452284'"
      ]
     },
     "metadata": {},
     "output_type": "display_data"
    },
    {
     "data": {
      "text/plain": [
       "'The median number of parents and/or children aboard the Titanic for each passenger was 0'"
      ]
     },
     "metadata": {},
     "output_type": "display_data"
    },
    {
     "data": {
      "text/plain": [
       "'The mode number of parents and/or children aboard the Titanic for each passenger was 0 which appeared 678 times'"
      ]
     },
     "metadata": {},
     "output_type": "display_data"
    },
    {
     "name": "stdout",
     "output_type": "stream",
     "text": [
      "\n",
      "\n"
     ]
    },
    {
     "data": {
      "text/plain": [
       "'The mean ticket fare was $32.2042079685746'"
      ]
     },
     "metadata": {},
     "output_type": "display_data"
    },
    {
     "data": {
      "text/plain": [
       "'The standard deviation of ticket fare was $49.66553444477411'"
      ]
     },
     "metadata": {},
     "output_type": "display_data"
    },
    {
     "data": {
      "text/plain": [
       "'The median ticket fare was $14.4542'"
      ]
     },
     "metadata": {},
     "output_type": "display_data"
    },
    {
     "data": {
      "text/plain": [
       "'The mode ticket fare was $8.05 which appeared 43 times'"
      ]
     },
     "metadata": {},
     "output_type": "display_data"
    }
   ],
   "source": [
    "display(\"The mean age aboard the Titanic was {} years old\".format(this_mean(data_dict_columns['Age'])))\n",
    "display(\"The standard deviation of age aboard the Titanic was {} years\".format(this_std(data_dict_columns['Age'])))\n",
    "display(\"The median age aboard the Titanic was {} years old\".format(this_median(data_dict_columns['Age'])))\n",
    "display(\"The mode age aboard the Titanic was {} years old which appeared {} times\".format(this_mode(data_dict_columns['Age'])[0], this_mode(data_dict_columns['Age'])[1]))\n",
    "print('\\n')\n",
    "display(\"The survival rate aboard the Titanic was {}\".format(this_mean(data_dict_columns['Survived'])))\n",
    "display(\"The standard deviation of the survival rate aboard the Titanic was {}\".format(this_std(data_dict_columns['Survived'])))\n",
    "display(\"The median survival (1 or 0) aboard the Titanic was {}\".format(this_median(data_dict_columns['Survived'])))\n",
    "display(\"The mode survival (1 or 0) aboard the Titanic was {} which appeared {} times\".format(this_mode(data_dict_columns['Survived'])[0], this_mode(data_dict_columns['Survived'])[1]))\n",
    "print('\\n')\n",
    "display(\"The mean socioeconomic class aboard the Titanic was {}\".format(this_mean(data_dict_columns['Pclass'])))\n",
    "display(\"The standard deviation of socioeconomic class aboard the Titanic was {}\".format(this_std(data_dict_columns['Pclass'])))\n",
    "display(\"The median socioeconomic class aboard the Titanic was {}\".format(this_median(data_dict_columns['Pclass'])))\n",
    "display(\"The mode socioeconomic class aboard the Titanic was {} which appeared {} times\".format(this_mode(data_dict_columns['Pclass'])[0], this_mode(data_dict_columns['Pclass'])[1]))\n",
    "print('\\n')\n",
    "display(\"The mean number of siblings and/or spouses that each passenger had aboard the Titanic was {}\".format(this_mean(data_dict_columns['SibSp'])))\n",
    "display(\"The standard deviation of number of siblings and/or spouses aboard the Titanic was {}\".format(this_std(data_dict_columns['SibSp'])))\n",
    "display(\"The median number of siblings and/or spouses aboard the Titanic for each passenger was {}\".format(this_median(data_dict_columns['SibSp'])))\n",
    "display(\"The mode number of siblings and/or spouses aboard the Titanic for each passenger was {} which appeared {} times\".format(this_mode(data_dict_columns['SibSp'])[0], this_mode(data_dict_columns['SibSp'])[1]))\n",
    "print('\\n')\n",
    "display(\"The mean number of parents and/or children that each passenger had aboard the Titanic was {}\".format(this_mean(data_dict_columns['Parch'])))\n",
    "display(\"The standard deviation of parents and/or children that each passenger had aboard the Titanic was {}\".format(this_std(data_dict_columns['Parch'])))\n",
    "display(\"The median number of parents and/or children aboard the Titanic for each passenger was {}\".format(this_median(data_dict_columns['Parch'])))\n",
    "display(\"The mode number of parents and/or children aboard the Titanic for each passenger was {} which appeared {} times\".format(this_mode(data_dict_columns['Parch'])[0], this_mode(data_dict_columns['Parch'])[1]))\n",
    "print('\\n')\n",
    "display(\"The mean ticket fare was ${}\".format(this_mean(data_dict_columns['Fare'])))\n",
    "display(\"The standard deviation of ticket fare was ${}\".format(this_std(data_dict_columns['Fare'])))\n",
    "display(\"The median ticket fare was ${}\".format(this_median(data_dict_columns['Fare'])))\n",
    "display(\"The mode ticket fare was ${} which appeared {} times\".format(this_mode(data_dict_columns['Fare'])[0], this_mode(data_dict_columns['Fare'])[1]))\n",
    "\n",
    "\n",
    "\n",
    "\n",
    "\n"
   ]
  },
  {
   "cell_type": "markdown",
   "metadata": {},
   "source": [
    "Age: All four of the measures of central tendency are good descriptors for this data set. I think the average is the most useful, however they can all be used and interpretted.\n",
    "\n",
    "Survived: The survival rate (mean) and the mode survival are the most useful. Knowing the total number of data points in this set, using either the mean survival rate or the mode survival, you can determine the measure of central tendency. The mean survival rate gives the odds that a randomly selected passenger survived the sinking of the ship.\n",
    "\n",
    "Pclass: The most useful measure for Pclass is the mode Pclass since this shows that the majority of the passengers aboard the titanic were lower class.\n",
    "\n",
    "SibSp: The mode number of siblings/spouses aboard the Titanic is the most descriptive for this set, since it shows that more passengers did not have any siblings or spouses on board than did have sibling(s) and/or spouse(s).\n",
    "\n",
    "Parch: The mode number of parents/children aboard the Titanic is the most descriptive for this set, since it shows that more passengers did not have any parents or children on board than did have parent(s) and/or child(ren).\n",
    "\n",
    "Fare: The standard deviation of the ticket fare is the most useful here, because it shows that ticket prices varied by a lot, even more than the average ticket price. It is also worth noting that the median ticket price is far lower than the mean ticket price, therefore raising concerns about outliers with very high ticket prices."
   ]
  },
  {
   "cell_type": "markdown",
   "metadata": {},
   "source": [
    "# 10. Splitting the Data to Predicting Survival\n",
    "\n",
    "For all the passengers in the dataset, the mean survival rate is around .38 (38% of the passengers survived). From our data, we may be able to profile who survived and who didn't!\n",
    "\n",
    "Split the data by pclass. Does the class a passenger was in affect survivability? You can do this by:\n",
    "* Creating a list of `True` and `False` values conditional on a column's value\n",
    "* Taking the mean of the `Survived` column where those values are `True`"
   ]
  },
  {
   "cell_type": "code",
   "execution_count": 264,
   "metadata": {},
   "outputs": [
    {
     "data": {
      "text/plain": [
       "'The survival rate for the upper class was 0.6296296296296297'"
      ]
     },
     "metadata": {},
     "output_type": "display_data"
    },
    {
     "data": {
      "text/plain": [
       "'The survival rate for the middle class was 0.47282608695652173'"
      ]
     },
     "metadata": {},
     "output_type": "display_data"
    },
    {
     "data": {
      "text/plain": [
       "'The survival rate for the lower class was 0.24236252545824846'"
      ]
     },
     "metadata": {},
     "output_type": "display_data"
    }
   ],
   "source": [
    "# initialize variables\n",
    "pclass1_survived = 0\n",
    "pclass1_incrementer = 0\n",
    "pclass2_survived = 0\n",
    "pclass2_incrementer = 0\n",
    "pclass3_survived = 0\n",
    "pclass3_incrementer = 0\n",
    "\n",
    "# loop through the Pclass data\n",
    "for r in range(len(data_dict_columns['Pclass'])):\n",
    "    \n",
    "    # if the passenger was in Pclass1, increment the corresponding counter\n",
    "    if data_dict_columns['Pclass'][r] == 1:\n",
    "        pclass1_incrementer += 1\n",
    "        \n",
    "        # if the passenger in Pclass1 survived, increment the pclass1_survived counter\n",
    "        if data_dict_columns['Survived'][r] == 1:\n",
    "            pclass1_survived += 1\n",
    "            \n",
    "    # if the passenger was in Pclass2, increment the corresponding counter\n",
    "    if data_dict_columns['Pclass'][r] == 2:\n",
    "        pclass2_incrementer += 1\n",
    "        \n",
    "        # if the passenger in Pclass2 survived, increment the pclass2_survived counter\n",
    "        if data_dict_columns['Survived'][r] == 1:\n",
    "            pclass2_survived += 1\n",
    "            \n",
    "    # if the passenger was in Pclass3, increment the corresponding counter\n",
    "    if data_dict_columns['Pclass'][r] == 3:\n",
    "        pclass3_incrementer += 1\n",
    "        \n",
    "        # if the passenger in Pclass3 survived, increment the pclass3_survived counter\n",
    "        if data_dict_columns['Survived'][r] == 1:\n",
    "            pclass3_survived += 1\n",
    "\n",
    "# divide the number of people who survived from each pclass by the number in the pclass to determine the survival rate for each pclass\n",
    "pclass1_survival_rate = pclass1_survived/pclass1_incrementer\n",
    "pclass2_survival_rate = pclass2_survived/pclass2_incrementer\n",
    "pclass3_survival_rate = pclass3_survived/pclass3_incrementer\n",
    "        \n",
    "display(\"The survival rate for the upper class was {}\".format(pclass1_survival_rate))\n",
    "display(\"The survival rate for the middle class was {}\".format(pclass2_survival_rate))\n",
    "display(\"The survival rate for the lower class was {}\".format(pclass3_survival_rate))"
   ]
  },
  {
   "cell_type": "markdown",
   "metadata": {},
   "source": [
    "# 11. Independent Work\n",
    "\n",
    "Use the techniques from step 10 to make different conditional splits in the `Survived` column. Can you find a combination of splits that maximizes the survival rate?"
   ]
  },
  {
   "cell_type": "code",
   "execution_count": 265,
   "metadata": {},
   "outputs": [
    {
     "data": {
      "text/plain": [
       "'The survival rate for high class females was 0.9680851063829787'"
      ]
     },
     "metadata": {},
     "output_type": "display_data"
    }
   ],
   "source": [
    "# initialize variables\n",
    "high_class_female_survived = 0\n",
    "high_class_female_incrementer = 0\n",
    "\n",
    "# loop through the Sex column of the dictionary\n",
    "for r in range(len(data_dict_columns['Sex'])):\n",
    "    \n",
    "    # if the passenger is both a female and a member of pclass1 (upper class) then increment the corresponding counter\n",
    "    if data_dict_columns['Sex'][r] == 'female' and data_dict_columns['Pclass'][r] == 1:\n",
    "        high_class_female_incrementer += 1\n",
    "        \n",
    "        # if the high class female passenger survived, increment the survived counter\n",
    "        if data_dict_columns['Survived'][r] == 1:\n",
    "            high_class_female_survived += 1\n",
    "\n",
    "# divide the number of high class females who survived by the total number of high class females aboard the Titanic to get the survival rate\n",
    "high_class_female_survival_rate = high_class_female_survived/high_class_female_incrementer\n",
    "\n",
    "display(\"The survival rate for high class females was {}\".format(high_class_female_survival_rate))"
   ]
  },
  {
   "cell_type": "markdown",
   "metadata": {},
   "source": [
    "# 12. Distributions\n",
    "\n",
    "### A) For each of your numeric features, use `pyplot` subplots to plot a hisogram for each feature.\n",
    "\n",
    "* Make sure to title each subplot.\n",
    "* If you get an error, it may be caused by `np.NaN`"
   ]
  },
  {
   "cell_type": "code",
   "execution_count": 266,
   "metadata": {},
   "outputs": [],
   "source": [
    "import matplotlib.pyplot as plt\n",
    "%matplotlib inline"
   ]
  },
  {
   "cell_type": "code",
   "execution_count": 267,
   "metadata": {},
   "outputs": [
    {
     "data": {
      "image/png": "[encoded data removed]",
      "text/plain": [
       "<matplotlib.figure.Figure at 0x7ff124129ef0>"
      ]
     },
     "metadata": {},
     "output_type": "display_data"
    }
   ],
   "source": [
    "# using a for loop, loops through each data set and plots a histogram\n",
    "numeric_columns = ['Survived', 'Age', 'Pclass', 'SibSp', 'Parch', 'Fare']\n",
    "fig = plt.figure(figsize=(16,8))\n",
    "for i, col in enumerate(numeric_columns):\n",
    "    fig.add_subplot(2,3,1+i)\n",
    "    col_data = data_dict_columns[col]\n",
    "    plt.hist(col_data)\n",
    "    plt.title(col)"
   ]
  },
  {
   "cell_type": "markdown",
   "metadata": {},
   "source": [
    "### B) for each of these values, what's the 90% confidence interval of the population mean?\n",
    "\n",
    "* Create a function to find the confidence interval, and use it on each of the numeric columns.\n",
    "* What's your interpretation of the interval?"
   ]
  },
  {
   "cell_type": "code",
   "execution_count": 268,
   "metadata": {},
   "outputs": [],
   "source": [
    "from scipy import stats"
   ]
  },
  {
   "cell_type": "code",
   "execution_count": 269,
   "metadata": {},
   "outputs": [
    {
     "data": {
      "text/plain": [
       "'We can be 90% confident that the mean for Survived lies between 0.35 and 0.42'"
      ]
     },
     "metadata": {},
     "output_type": "display_data"
    },
    {
     "data": {
      "text/plain": [
       "'We can be 90% confident that the mean for Age lies between 28.82 and 30.69'"
      ]
     },
     "metadata": {},
     "output_type": "display_data"
    },
    {
     "data": {
      "text/plain": [
       "'We can be 90% confident that the mean for Pclass lies between 2.25 and 2.37'"
      ]
     },
     "metadata": {},
     "output_type": "display_data"
    },
    {
     "data": {
      "text/plain": [
       "'We can be 90% confident that the mean for SibSp lies between 0.44 and 0.6'"
      ]
     },
     "metadata": {},
     "output_type": "display_data"
    },
    {
     "data": {
      "text/plain": [
       "'We can be 90% confident that the mean for Parch lies between 0.31 and 0.44'"
      ]
     },
     "metadata": {},
     "output_type": "display_data"
    },
    {
     "data": {
      "text/plain": [
       "'We can be 90% confident that the mean for Fare lies between 28.49 and 35.71'"
      ]
     },
     "metadata": {},
     "output_type": "display_data"
    }
   ],
   "source": [
    "# get_sample_means creates a list of means using a random \"sampling\" of the data and repeating this random sampling many times. Each iteration, the mean is added to a list of means. This is normally distributed. We can then obtain confidence intervals for the means of the data sets by determining the tails of the graph and where to \"cutoff\" each tail for the given confidence interval\n",
    "\n",
    "\n",
    "\n",
    "# define a function that determines the sample means for a given distribution\n",
    "def get_sample_means(distribution, sample_size = 300, num_samples = 300, replace = False):\n",
    "    sample_means = []\n",
    "    \n",
    "    # loops through the samples and creates a list of means for each iteration of the function\n",
    "    for _ in range(num_samples):\n",
    "        this_mean = np.random.choice(distribution, size=sample_size, replace=replace).mean()\n",
    "        sample_means.append(this_mean)\n",
    "    return sample_means\n",
    "\n",
    "# define a function that determines the confidence interval \n",
    "def confidence_interval_mean(distribution, confidence, sample_size = 300, num_samples = 300):\n",
    "    \n",
    "    # gets a list of means for samples and distribution passed into initial function\n",
    "    means = get_sample_means(distribution, sample_size = sample_size, num_samples = num_samples)\n",
    "    \n",
    "    # gives distance from edges (0 or 100 percentile) that we are looking for for a given confidence interval\n",
    "    dist_from_0_or_100 = (100-confidence)/2\n",
    "    lower_percentile, upper_percentile = 0+dist_from_0_or_100, 100-dist_from_0_or_100\n",
    "    \n",
    "    # returns the lower and upper percentile of the means list created using the get_sample_means function\n",
    "    return (np.percentile(means, lower_percentile), np.percentile(means, upper_percentile))\n",
    "\n",
    "# loops through the data columns\n",
    "for col in numeric_columns:\n",
    "    \n",
    "    # finds the lower and upper confidence intervals for the means of the given data set using the functions created above\n",
    "    lower, upper = confidence_interval_mean(data_dict_columns[col], 90)\n",
    "    display('We can be 90% confident that the mean for {} lies between {} and {}'\n",
    "          .format(col, round(lower,2), round(upper,2)))"
   ]
  },
  {
   "cell_type": "markdown",
   "metadata": {},
   "source": [
    "These confidence intervals give a range of 90% confidence of where the mean of the datasets lie. This means that we can be 90% confident that the mean of our data set lies within these numbers."
   ]
  },
  {
   "cell_type": "markdown",
   "metadata": {},
   "source": [
    "# 13. Pandas"
   ]
  },
  {
   "cell_type": "markdown",
   "metadata": {},
   "source": [
    "### A: Load the titanic csv into a `DataFrame` using `pd.read_csv()`"
   ]
  },
  {
   "cell_type": "code",
   "execution_count": 270,
   "metadata": {},
   "outputs": [],
   "source": [
    "import pandas as pd"
   ]
  },
  {
   "cell_type": "code",
   "execution_count": 271,
   "metadata": {},
   "outputs": [],
   "source": [
    "# load in as pandas dataframe\n",
    "titanic_df = pd.read_csv('titanic.csv')"
   ]
  },
  {
   "cell_type": "markdown",
   "metadata": {},
   "source": [
    "### B: Display the first 5 rows, the last 4 rows, and a sample of 3 rows."
   ]
  },
  {
   "cell_type": "code",
   "execution_count": 272,
   "metadata": {},
   "outputs": [
    {
     "data": {
      "text/html": [
       "<div>\n",
       "<table border=\"1\" class=\"dataframe\">\n",
       "  <thead>\n",
       "    <tr style=\"text-align: right;\">\n",
       "      <th></th>\n",
       "      <th>PassengerId</th>\n",
       "      <th>Survived</th>\n",
       "      <th>Pclass</th>\n",
       "      <th>Name</th>\n",
       "      <th>Sex</th>\n",
       "      <th>Age</th>\n",
       "      <th>SibSp</th>\n",
       "      <th>Parch</th>\n",
       "      <th>Ticket</th>\n",
       "      <th>Fare</th>\n",
       "      <th>Cabin</th>\n",
       "      <th>Embarked</th>\n",
       "    </tr>\n",
       "  </thead>\n",
       "  <tbody>\n",
       "    <tr>\n",
       "      <th>0</th>\n",
       "      <td>1</td>\n",
       "      <td>0</td>\n",
       "      <td>3</td>\n",
       "      <td>Braund, Mr. Owen Harris</td>\n",
       "      <td>male</td>\n",
       "      <td>22.0</td>\n",
       "      <td>1</td>\n",
       "      <td>0</td>\n",
       "      <td>A/5 21171</td>\n",
       "      <td>7.2500</td>\n",
       "      <td>NaN</td>\n",
       "      <td>S</td>\n",
       "    </tr>\n",
       "    <tr>\n",
       "      <th>1</th>\n",
       "      <td>2</td>\n",
       "      <td>1</td>\n",
       "      <td>1</td>\n",
       "      <td>Cumings, Mrs. John Bradley (Florence Briggs Th...</td>\n",
       "      <td>female</td>\n",
       "      <td>38.0</td>\n",
       "      <td>1</td>\n",
       "      <td>0</td>\n",
       "      <td>PC 17599</td>\n",
       "      <td>71.2833</td>\n",
       "      <td>C85</td>\n",
       "      <td>C</td>\n",
       "    </tr>\n",
       "    <tr>\n",
       "      <th>2</th>\n",
       "      <td>3</td>\n",
       "      <td>1</td>\n",
       "      <td>3</td>\n",
       "      <td>Heikkinen, Miss. Laina</td>\n",
       "      <td>female</td>\n",
       "      <td>26.0</td>\n",
       "      <td>0</td>\n",
       "      <td>0</td>\n",
       "      <td>STON/O2. 3101282</td>\n",
       "      <td>7.9250</td>\n",
       "      <td>NaN</td>\n",
       "      <td>S</td>\n",
       "    </tr>\n",
       "    <tr>\n",
       "      <th>3</th>\n",
       "      <td>4</td>\n",
       "      <td>1</td>\n",
       "      <td>1</td>\n",
       "      <td>Futrelle, Mrs. Jacques Heath (Lily May Peel)</td>\n",
       "      <td>female</td>\n",
       "      <td>35.0</td>\n",
       "      <td>1</td>\n",
       "      <td>0</td>\n",
       "      <td>113803</td>\n",
       "      <td>53.1000</td>\n",
       "      <td>C123</td>\n",
       "      <td>S</td>\n",
       "    </tr>\n",
       "    <tr>\n",
       "      <th>4</th>\n",
       "      <td>5</td>\n",
       "      <td>0</td>\n",
       "      <td>3</td>\n",
       "      <td>Allen, Mr. William Henry</td>\n",
       "      <td>male</td>\n",
       "      <td>35.0</td>\n",
       "      <td>0</td>\n",
       "      <td>0</td>\n",
       "      <td>373450</td>\n",
       "      <td>8.0500</td>\n",
       "      <td>NaN</td>\n",
       "      <td>S</td>\n",
       "    </tr>\n",
       "  </tbody>\n",
       "</table>\n",
       "</div>"
      ],
      "text/plain": [
       "   PassengerId  Survived  Pclass  \\\n",
       "0            1         0       3   \n",
       "1            2         1       1   \n",
       "2            3         1       3   \n",
       "3            4         1       1   \n",
       "4            5         0       3   \n",
       "\n",
       "                                                Name     Sex   Age  SibSp  \\\n",
       "0                            Braund, Mr. Owen Harris    male  22.0      1   \n",
       "1  Cumings, Mrs. John Bradley (Florence Briggs Th...  female  38.0      1   \n",
       "2                             Heikkinen, Miss. Laina  female  26.0      0   \n",
       "3       Futrelle, Mrs. Jacques Heath (Lily May Peel)  female  35.0      1   \n",
       "4                           Allen, Mr. William Henry    male  35.0      0   \n",
       "\n",
       "   Parch            Ticket     Fare Cabin Embarked  \n",
       "0      0         A/5 21171   7.2500   NaN        S  \n",
       "1      0          PC 17599  71.2833   C85        C  \n",
       "2      0  STON/O2. 3101282   7.9250   NaN        S  \n",
       "3      0            113803  53.1000  C123        S  \n",
       "4      0            373450   8.0500   NaN        S  "
      ]
     },
     "metadata": {},
     "output_type": "display_data"
    },
    {
     "data": {
      "text/html": [
       "<div>\n",
       "<table border=\"1\" class=\"dataframe\">\n",
       "  <thead>\n",
       "    <tr style=\"text-align: right;\">\n",
       "      <th></th>\n",
       "      <th>PassengerId</th>\n",
       "      <th>Survived</th>\n",
       "      <th>Pclass</th>\n",
       "      <th>Name</th>\n",
       "      <th>Sex</th>\n",
       "      <th>Age</th>\n",
       "      <th>SibSp</th>\n",
       "      <th>Parch</th>\n",
       "      <th>Ticket</th>\n",
       "      <th>Fare</th>\n",
       "      <th>Cabin</th>\n",
       "      <th>Embarked</th>\n",
       "    </tr>\n",
       "  </thead>\n",
       "  <tbody>\n",
       "    <tr>\n",
       "      <th>887</th>\n",
       "      <td>888</td>\n",
       "      <td>1</td>\n",
       "      <td>1</td>\n",
       "      <td>Graham, Miss. Margaret Edith</td>\n",
       "      <td>female</td>\n",
       "      <td>19.0</td>\n",
       "      <td>0</td>\n",
       "      <td>0</td>\n",
       "      <td>112053</td>\n",
       "      <td>30.00</td>\n",
       "      <td>B42</td>\n",
       "      <td>S</td>\n",
       "    </tr>\n",
       "    <tr>\n",
       "      <th>888</th>\n",
       "      <td>889</td>\n",
       "      <td>0</td>\n",
       "      <td>3</td>\n",
       "      <td>Johnston, Miss. Catherine Helen \"Carrie\"</td>\n",
       "      <td>female</td>\n",
       "      <td>NaN</td>\n",
       "      <td>1</td>\n",
       "      <td>2</td>\n",
       "      <td>W./C. 6607</td>\n",
       "      <td>23.45</td>\n",
       "      <td>NaN</td>\n",
       "      <td>S</td>\n",
       "    </tr>\n",
       "    <tr>\n",
       "      <th>889</th>\n",
       "      <td>890</td>\n",
       "      <td>1</td>\n",
       "      <td>1</td>\n",
       "      <td>Behr, Mr. Karl Howell</td>\n",
       "      <td>male</td>\n",
       "      <td>26.0</td>\n",
       "      <td>0</td>\n",
       "      <td>0</td>\n",
       "      <td>111369</td>\n",
       "      <td>30.00</td>\n",
       "      <td>C148</td>\n",
       "      <td>C</td>\n",
       "    </tr>\n",
       "    <tr>\n",
       "      <th>890</th>\n",
       "      <td>891</td>\n",
       "      <td>0</td>\n",
       "      <td>3</td>\n",
       "      <td>Dooley, Mr. Patrick</td>\n",
       "      <td>male</td>\n",
       "      <td>32.0</td>\n",
       "      <td>0</td>\n",
       "      <td>0</td>\n",
       "      <td>370376</td>\n",
       "      <td>7.75</td>\n",
       "      <td>NaN</td>\n",
       "      <td>Q</td>\n",
       "    </tr>\n",
       "  </tbody>\n",
       "</table>\n",
       "</div>"
      ],
      "text/plain": [
       "     PassengerId  Survived  Pclass                                      Name  \\\n",
       "887          888         1       1              Graham, Miss. Margaret Edith   \n",
       "888          889         0       3  Johnston, Miss. Catherine Helen \"Carrie\"   \n",
       "889          890         1       1                     Behr, Mr. Karl Howell   \n",
       "890          891         0       3                       Dooley, Mr. Patrick   \n",
       "\n",
       "        Sex   Age  SibSp  Parch      Ticket   Fare Cabin Embarked  \n",
       "887  female  19.0      0      0      112053  30.00   B42        S  \n",
       "888  female   NaN      1      2  W./C. 6607  23.45   NaN        S  \n",
       "889    male  26.0      0      0      111369  30.00  C148        C  \n",
       "890    male  32.0      0      0      370376   7.75   NaN        Q  "
      ]
     },
     "metadata": {},
     "output_type": "display_data"
    },
    {
     "data": {
      "text/html": [
       "<div>\n",
       "<table border=\"1\" class=\"dataframe\">\n",
       "  <thead>\n",
       "    <tr style=\"text-align: right;\">\n",
       "      <th></th>\n",
       "      <th>PassengerId</th>\n",
       "      <th>Survived</th>\n",
       "      <th>Pclass</th>\n",
       "      <th>Name</th>\n",
       "      <th>Sex</th>\n",
       "      <th>Age</th>\n",
       "      <th>SibSp</th>\n",
       "      <th>Parch</th>\n",
       "      <th>Ticket</th>\n",
       "      <th>Fare</th>\n",
       "      <th>Cabin</th>\n",
       "      <th>Embarked</th>\n",
       "    </tr>\n",
       "  </thead>\n",
       "  <tbody>\n",
       "    <tr>\n",
       "      <th>716</th>\n",
       "      <td>717</td>\n",
       "      <td>1</td>\n",
       "      <td>1</td>\n",
       "      <td>Endres, Miss. Caroline Louise</td>\n",
       "      <td>female</td>\n",
       "      <td>38.0</td>\n",
       "      <td>0</td>\n",
       "      <td>0</td>\n",
       "      <td>PC 17757</td>\n",
       "      <td>227.5250</td>\n",
       "      <td>C45</td>\n",
       "      <td>C</td>\n",
       "    </tr>\n",
       "    <tr>\n",
       "      <th>254</th>\n",
       "      <td>255</td>\n",
       "      <td>0</td>\n",
       "      <td>3</td>\n",
       "      <td>Rosblom, Mrs. Viktor (Helena Wilhelmina)</td>\n",
       "      <td>female</td>\n",
       "      <td>41.0</td>\n",
       "      <td>0</td>\n",
       "      <td>2</td>\n",
       "      <td>370129</td>\n",
       "      <td>20.2125</td>\n",
       "      <td>NaN</td>\n",
       "      <td>S</td>\n",
       "    </tr>\n",
       "    <tr>\n",
       "      <th>715</th>\n",
       "      <td>716</td>\n",
       "      <td>0</td>\n",
       "      <td>3</td>\n",
       "      <td>Soholt, Mr. Peter Andreas Lauritz Andersen</td>\n",
       "      <td>male</td>\n",
       "      <td>19.0</td>\n",
       "      <td>0</td>\n",
       "      <td>0</td>\n",
       "      <td>348124</td>\n",
       "      <td>7.6500</td>\n",
       "      <td>F G73</td>\n",
       "      <td>S</td>\n",
       "    </tr>\n",
       "  </tbody>\n",
       "</table>\n",
       "</div>"
      ],
      "text/plain": [
       "     PassengerId  Survived  Pclass  \\\n",
       "716          717         1       1   \n",
       "254          255         0       3   \n",
       "715          716         0       3   \n",
       "\n",
       "                                           Name     Sex   Age  SibSp  Parch  \\\n",
       "716               Endres, Miss. Caroline Louise  female  38.0      0      0   \n",
       "254    Rosblom, Mrs. Viktor (Helena Wilhelmina)  female  41.0      0      2   \n",
       "715  Soholt, Mr. Peter Andreas Lauritz Andersen    male  19.0      0      0   \n",
       "\n",
       "       Ticket      Fare  Cabin Embarked  \n",
       "716  PC 17757  227.5250    C45        C  \n",
       "254    370129   20.2125    NaN        S  \n",
       "715    348124    7.6500  F G73        S  "
      ]
     },
     "metadata": {},
     "output_type": "display_data"
    }
   ],
   "source": [
    "# display the first 5 rows\n",
    "display(titanic_df.head(5))\n",
    "\n",
    "# display the last 4 rows\n",
    "display(titanic_df.tail(4))\n",
    "\n",
    "# sample 3 random rows\n",
    "display(titanic_df.sample(3))"
   ]
  },
  {
   "cell_type": "markdown",
   "metadata": {},
   "source": [
    "### C: Create a row mask that is `True` when `Pclass == 3`. Use this to mask your `DataFrame`. Find the mean of the `Survived` column. Is it the same as what we calculated in part 10?"
   ]
  },
  {
   "cell_type": "code",
   "execution_count": 273,
   "metadata": {},
   "outputs": [
    {
     "data": {
      "text/plain": [
       "0.24236252545824846"
      ]
     },
     "metadata": {},
     "output_type": "display_data"
    },
    {
     "data": {
      "text/plain": [
       "'This is the same survival rate we got in part 10 of this lab. 119 survivors of 491 total passengers belonging to Pclass 3 (low class)'"
      ]
     },
     "metadata": {},
     "output_type": "display_data"
    }
   ],
   "source": [
    "# create a row mask for when Pclass = 3\n",
    "pclass3_mask = titanic_df['Pclass'] == 3\n",
    "\n",
    "# use the mask to return only those rows of passengers in Pclass3\n",
    "titanic_df_pclass3 = titanic_df.loc[pclass3_mask]\n",
    "\n",
    "# Add up the number of survivors in Pclass3\n",
    "pclass3_survivors = titanic_df_pclass3['Survived'].sum()\n",
    "\n",
    "# divide the number of survivors by the total number of Pclass3 members\n",
    "display(pclass3_survivors/491)\n",
    "display(\"This is the same survival rate we got in part 10 of this lab. 119 survivors of 491 total passengers belonging to Pclass 3 (low class)\")"
   ]
  },
  {
   "cell_type": "markdown",
   "metadata": {},
   "source": [
    "### D: Using a `.groupby()`, what is the mean of the survival column grouped by `Pclass` and `Sex`. What are your observations?"
   ]
  },
  {
   "cell_type": "code",
   "execution_count": 274,
   "metadata": {},
   "outputs": [
    {
     "data": {
      "text/plain": [
       "Sex     Pclass\n",
       "female  1         0.968085\n",
       "        2         0.921053\n",
       "        3         0.500000\n",
       "male    1         0.368852\n",
       "        2         0.157407\n",
       "        3         0.135447\n",
       "Name: Survived, dtype: float64"
      ]
     },
     "metadata": {},
     "output_type": "display_data"
    }
   ],
   "source": [
    "# display a table with sex and pclass and their corresponding survival rates\n",
    "display(titanic_df.groupby(['Sex', 'Pclass'])['Survived'].mean())"
   ]
  },
  {
   "cell_type": "markdown",
   "metadata": {},
   "source": [
    "The higher class passengers were more likely to have survived the sinking of the Titanic than the lower class passengers. However, a low class female was still more likely to have survived than a high class male, therefore gender is more of a determining factor than class, however there is a strong correlation between class and survival."
   ]
  },
  {
   "cell_type": "markdown",
   "metadata": {},
   "source": [
    "### E: Survival Rate by Age Range:  `pd.cut()` takes two arguments: A `list`, `Series`, or `array`, and a list of bins. Create a new column in your `DataFrame` using `pd.cut()` that groups your ages into bins of 5 years. Then, use `.groupby()` to display the survival rate and count for each age group"
   ]
  },
  {
   "cell_type": "code",
   "execution_count": 275,
   "metadata": {},
   "outputs": [
    {
     "data": {
      "text/plain": [
       "Age\n",
       "(0, 5]      0.704545\n",
       "(5, 10]     0.350000\n",
       "(10, 15]    0.578947\n",
       "(15, 20]    0.343750\n",
       "(20, 25]    0.344262\n",
       "(25, 30]    0.388889\n",
       "(30, 35]    0.465909\n",
       "(35, 40]    0.417910\n",
       "(40, 45]    0.361702\n",
       "(45, 50]    0.410256\n",
       "(50, 55]    0.416667\n",
       "(55, 60]    0.388889\n",
       "(60, 65]    0.285714\n",
       "(65, 70]    0.000000\n",
       "(70, 75]    0.000000\n",
       "(75, 80]    1.000000\n",
       "Name: Survived, dtype: float64"
      ]
     },
     "metadata": {},
     "output_type": "display_data"
    }
   ],
   "source": [
    "# create a new_age variable with bins for the age group of every 5 years\n",
    "new_age = pd.cut(titanic_df['Age'], bins=[0, 5, 10, 15, 20, 25, 30, 35, 40, 45, 50, 55, 60, 65, 70, 75, 80])\n",
    "\n",
    "# use this new variable to display the survival rate of each age bin\n",
    "display(titanic_df.groupby(new_age)['Survived'].mean())"
   ]
  },
  {
   "cell_type": "markdown",
   "metadata": {},
   "source": [
    "# 14. Hypothesis Testing\n",
    "\n",
    "### A) Hypothesis:\n",
    "\n",
    "Create a null and alternate hypothesis to ask the following quesiton: Was the `Age` of survivors different from that of people who didn't survive?"
   ]
  },
  {
   "cell_type": "markdown",
   "metadata": {},
   "source": [
    "**Hypotheses:**\n",
    "\n",
    "$H_0$: The age of those who did survive was the same, on average, as the age of those who did not survive.\n",
    "\n",
    "$H_1$: The age of those who did survive was different, on average, from the age of those who did not survive."
   ]
  },
  {
   "cell_type": "markdown",
   "metadata": {},
   "source": [
    "### B) T-Testing\n",
    "\n",
    "Use a t-test to test your null hypothesis. What's the p-value? What's your interpretation? Do you accept or reject your null hypothesis? What does this mean in terms of `Age`?"
   ]
  },
  {
   "cell_type": "code",
   "execution_count": 276,
   "metadata": {},
   "outputs": [],
   "source": [
    "ttest = stats.ttest_ind"
   ]
  },
  {
   "cell_type": "code",
   "execution_count": 277,
   "metadata": {},
   "outputs": [
    {
     "data": {
      "text/plain": [
       "'The average age of those who did not survive was 30.62617924528302'"
      ]
     },
     "metadata": {},
     "output_type": "display_data"
    },
    {
     "data": {
      "text/plain": [
       "'The average age of those who did survive was 28.343689655172415'"
      ]
     },
     "metadata": {},
     "output_type": "display_data"
    },
    {
     "data": {
      "text/plain": [
       "Ttest_indResult(statistic=-2.0666869462538102, pvalue=0.039124654013482488)"
      ]
     },
     "metadata": {},
     "output_type": "display_data"
    }
   ],
   "source": [
    "# drop all null values from the 'Age' column of data\n",
    "new_titanic_df = titanic_df.loc[titanic_df['Age'].isnull()].index\n",
    "withoutNull_titanic_df = titanic_df.drop(new_titanic_df)\n",
    "\n",
    "# determine the average age of those who survived and the average age of those who did not survive and display them\n",
    "average_age_notsurvived = withoutNull_titanic_df.loc[titanic_df['Survived'] == 0]['Age']\n",
    "average_age_survived = withoutNull_titanic_df.loc[titanic_df['Survived'] == 1]['Age']\n",
    "display(\"The average age of those who did not survive was {}\".format(average_age_notsurvived.mean()))\n",
    "display(\"The average age of those who did survive was {}\".format(average_age_survived.mean()))\n",
    "\n",
    "# display the T-statistic and the P-value between the average age of those who survived and did not survive\n",
    "display(ttest(average_age_survived, average_age_notsurvived))"
   ]
  },
  {
   "cell_type": "markdown",
   "metadata": {},
   "source": [
    "A pvalue of 0.0391 means that there is a 3.91% chance that the average age was the same amongst survivors as it was for non-survivors, and that the difference in mean ages between the two sets was purely by chance. Since the pvalue is less than 0.05, this percentage is too low and therefore I reject the null hypothesis. This means that the age of those who did not survive (30.626 years old) was not the same, on average, as the age of those who did survive (28.344 years old) and the difference is statistically significant."
   ]
  },
  {
   "cell_type": "markdown",
   "metadata": {},
   "source": [
    "# 13. Write-up\n",
    "\n",
    "Use markdown cells to answer the following questions:\n",
    "\n",
    "1. What is the main difference between a list and a tuple?\n",
    "2. Can you iterate over a dictionary? If so, how?\n",
    "3. What is the term for a list or array of `True` and `False` values used to select certain rows or columns in a `DataFrame`?\n",
    "4. If you have a continuous variable, when would the median be a better descriptor than the mean? Why?\n",
    "5. Give a qualitative description of the survivors of the titanic based on the effects of your splits in the data on survival rate. Or, given a row, what columns would you look at to guess if they survived?\n"
   ]
  },
  {
   "cell_type": "markdown",
   "metadata": {},
   "source": [
    "$1$. A list is mutable and a tuple is immutable."
   ]
  },
  {
   "cell_type": "markdown",
   "metadata": {},
   "source": [
    "$2$. Yes, but you must use a for loop. An example is shown in the cell below. Each time through the for loop, the i value is updated to the \"next\" key in dict1. Using this key, the value is accessed and assigned to our new dictionary (dict2)."
   ]
  },
  {
   "cell_type": "code",
   "execution_count": 278,
   "metadata": {},
   "outputs": [
    {
     "data": {
      "text/plain": [
       "{1: 2, 2: 2, 3: 5}"
      ]
     },
     "execution_count": 278,
     "metadata": {},
     "output_type": "execute_result"
    }
   ],
   "source": [
    "dict1 = {1:2, 2:2, 3:5}\n",
    "dict2 = {}\n",
    "for i in dict1:\n",
    "    dict2[i] = dict1[i]\n",
    "\n",
    "dict2"
   ]
  },
  {
   "cell_type": "markdown",
   "metadata": {},
   "source": [
    "$3$. Mask"
   ]
  },
  {
   "cell_type": "markdown",
   "metadata": {},
   "source": [
    "$4$. If there are 400 values and 399 of them are 4.21 and the other value is 421.21, the median value of 4.21 would describe the data much more accurately than the average of 5.25. In general, when there are large outliers, the median is a better descriptor than the mean.\\"
   ]
  },
  {
   "cell_type": "markdown",
   "metadata": {},
   "source": [
    "$5$. I would first look at the gender of the passenger, and if the passenger was female, that would greatly improve their chances of surviving. The next column I would look at would be the Pclass, and the lower the Pclass is, the greater chance of survival. For example, a female in Pclass 1 has a 96.81% chance of survival, whereas a male in Pclass 3 has a 13.54% chance of survival. Although age is considered statistically significant, it would be hard to deem whether or not a specific age would improve the chances of survival, especially for passengers in the age ranges from 30-60. However, if the passenger was to an extreme side of the age range (0-5 or 80+), this passenger has a very high likelihood of surviving."
   ]
  },
  {
   "cell_type": "markdown",
   "metadata": {},
   "source": [
    "# 14. Evaluation\n",
    "\n",
    "Please use markdown cells to submit your responses. \n",
    "\n",
    "1. What was easy for you in this project?\n",
    "2. What was difficult?\n",
    "3. Where did you make the most improvement?\n",
    "4. Where would you like to improve?"
   ]
  },
  {
   "cell_type": "markdown",
   "metadata": {},
   "source": [
    "$1$. Steps 1-3 and 5-7 were very easy for me since it was very similar to what we did in the Pokemon Lab. I also have some experience using pandas dataframes, so a few of those were simple, however I also learned the groupby() and pd.cut() which are very useful."
   ]
  },
  {
   "cell_type": "markdown",
   "metadata": {},
   "source": [
    "$2$. I am struggling to understand how to form dictionary comprehensions correctly. I have always used normal for loops, and it is hard for me to pick up the correct way to use the dictionary comprehensions. I also have trouble dealing with missing/\"dirty\" data that may be in the wrong form."
   ]
  },
  {
   "cell_type": "markdown",
   "metadata": {},
   "source": [
    "$3$. At first, I had never used the groupby() function before and did not really understand how it should work. After using stack overflow and various other resources, I finally started to understand it. I messed around with it for a little, and realized it is a very useful tool for seeing correlations between different data.\n",
    "\n",
    "The same goes for the pd.cut. I did not understand how to initiate the bin instances, but I figured it out and realized how useful that can be for data analysis."
   ]
  },
  {
   "cell_type": "markdown",
   "metadata": {},
   "source": [
    "$4$. I would like to figure out how to use dictionary and list comprehensions. I think this could save a ton of time, because it is much less typing and less lines of code. It cleans up the code and makes it more readable as well."
   ]
  }
 ],
 "metadata": {
  "kernelspec": {
   "display_name": "Python 3",
   "language": "python",
   "name": "python3"
  },
  "language_info": {
   "codemirror_mode": {
    "name": "ipython",
    "version": 3
   },
   "file_extension": ".py",
   "mimetype": "text/x-python",
   "name": "python",
   "nbconvert_exporter": "python",
   "pygments_lexer": "ipython3",
   "version": "3.6.2"
  }
 },
 "nbformat": 4,
 "nbformat_minor": 2
}
